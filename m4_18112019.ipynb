{
  "nbformat": 4,
  "nbformat_minor": 0,
  "metadata": {
    "colab": {
      "name": "m4_13112019.ipynb",
      "provenance": [],
      "collapsed_sections": [],
      "include_colab_link": true
    },
    "kernelspec": {
      "name": "python3",
      "display_name": "Python 3"
    },
    "accelerator": "GPU"
  },
  "cells": [
    {
      "cell_type": "markdown",
      "metadata": {
        "id": "view-in-github",
        "colab_type": "text"
      },
      "source": [
        "<a href=\"https://colab.research.google.com/github/sabyasm/m4/blob/master/m4_18112019.ipynb\" target=\"_parent\"><img src=\"https://colab.research.google.com/assets/colab-badge.svg\" alt=\"Open In Colab\"/></a>"
      ]
    },
    {
      "cell_type": "code",
      "metadata": {
        "id": "QhxRNQbhGGih",
        "colab_type": "code",
        "colab": {}
      },
      "source": [
        "!pip install pysurvival &> /dev/null"
      ],
      "execution_count": 0,
      "outputs": []
    },
    {
      "cell_type": "code",
      "metadata": {
        "id": "TLbTNshpGiJF",
        "colab_type": "code",
        "colab": {}
      },
      "source": [
        "!curl -Lo m4.pkl https://manu00.s3-us-west-2.amazonaws.com/m4.pkl &> /dev/null"
      ],
      "execution_count": 0,
      "outputs": []
    },
    {
      "cell_type": "code",
      "metadata": {
        "id": "JjcLdfwPG4YE",
        "colab_type": "code",
        "outputId": "ad506ea2-f68e-4935-9bf0-09e19e9919bd",
        "colab": {
          "base_uri": "https://localhost:8080/",
          "height": 34
        }
      },
      "source": [
        "#### 1 - Importing packages\n",
        "import numpy as np\n",
        "import pandas as pd\n",
        "from matplotlib import pyplot as plt\n",
        "from sklearn.model_selection import train_test_split\n",
        "from pysurvival.models.simulations import SimulationModel\n",
        "from pysurvival.models.parametric import GompertzModel\n",
        "from pysurvival.utils.metrics import concordance_index\n",
        "from pysurvival.utils.display import integrated_brier_score\n",
        "# Building training and testing sets\n",
        "from sklearn.model_selection import train_test_split\n",
        "%pylab inline"
      ],
      "execution_count": 141,
      "outputs": [
        {
          "output_type": "stream",
          "text": [
            "Populating the interactive namespace from numpy and matplotlib\n"
          ],
          "name": "stdout"
        }
      ]
    },
    {
      "cell_type": "code",
      "metadata": {
        "id": "EbKlu4RpHSnT",
        "colab_type": "code",
        "colab": {}
      },
      "source": [
        "# Reading the dataset\n",
        "raw_dataset = pd.read_pickle(\"m4.pkl\")"
      ],
      "execution_count": 0,
      "outputs": []
    },
    {
      "cell_type": "code",
      "metadata": {
        "id": "wRplTYGaHcWT",
        "colab_type": "code",
        "outputId": "52bfdd32-3b95-4884-dba8-3d793032c604",
        "colab": {
          "base_uri": "https://localhost:8080/",
          "height": 187
        }
      },
      "source": [
        "raw_dataset.columns"
      ],
      "execution_count": 81,
      "outputs": [
        {
          "output_type": "execute_result",
          "data": {
            "text/plain": [
              "Index(['PolicyNumber', 'CoverageNumber', 'IssueAge', 'PolicyYear',\n",
              "       'AttainedAge', 'IssueDate', 'MaturityDate', 'FaceAmount',\n",
              "       'SmokerStatus', 'Gender', 'OccupationClass', 'CurrentProvince',\n",
              "       'COLAIndicator', 'benefitPeriod', 'benefitPeriod_grouped',\n",
              "       'benefitExpiryDate', 'DisabilityDuration', 'disabilityAge',\n",
              "       'DisabilityReason', 'productDesign', 'EliminationPeriod',\n",
              "       'EliminationPeriod_grouped', 'policyStartDate', 'policyEndDate',\n",
              "       'exposureStartDate', 'exposureEndDate', 'TerminationEvent',\n",
              "       'terminationReason', 'train'],\n",
              "      dtype='object')"
            ]
          },
          "metadata": {
            "tags": []
          },
          "execution_count": 81
        }
      ]
    },
    {
      "cell_type": "code",
      "metadata": {
        "id": "luArgfJkHvtF",
        "colab_type": "code",
        "outputId": "3684d8bc-b22f-43c7-8096-5f48988a1165",
        "colab": {
          "base_uri": "https://localhost:8080/",
          "height": 326
        }
      },
      "source": [
        "raw_dataset.head()"
      ],
      "execution_count": 82,
      "outputs": [
        {
          "output_type": "execute_result",
          "data": {
            "text/html": [
              "<div>\n",
              "<style scoped>\n",
              "    .dataframe tbody tr th:only-of-type {\n",
              "        vertical-align: middle;\n",
              "    }\n",
              "\n",
              "    .dataframe tbody tr th {\n",
              "        vertical-align: top;\n",
              "    }\n",
              "\n",
              "    .dataframe thead th {\n",
              "        text-align: right;\n",
              "    }\n",
              "</style>\n",
              "<table border=\"1\" class=\"dataframe\">\n",
              "  <thead>\n",
              "    <tr style=\"text-align: right;\">\n",
              "      <th></th>\n",
              "      <th>PolicyNumber</th>\n",
              "      <th>CoverageNumber</th>\n",
              "      <th>IssueAge</th>\n",
              "      <th>PolicyYear</th>\n",
              "      <th>AttainedAge</th>\n",
              "      <th>IssueDate</th>\n",
              "      <th>MaturityDate</th>\n",
              "      <th>FaceAmount</th>\n",
              "      <th>SmokerStatus</th>\n",
              "      <th>Gender</th>\n",
              "      <th>OccupationClass</th>\n",
              "      <th>CurrentProvince</th>\n",
              "      <th>COLAIndicator</th>\n",
              "      <th>benefitPeriod</th>\n",
              "      <th>benefitPeriod_grouped</th>\n",
              "      <th>benefitExpiryDate</th>\n",
              "      <th>DisabilityDuration</th>\n",
              "      <th>disabilityAge</th>\n",
              "      <th>DisabilityReason</th>\n",
              "      <th>productDesign</th>\n",
              "      <th>EliminationPeriod</th>\n",
              "      <th>EliminationPeriod_grouped</th>\n",
              "      <th>policyStartDate</th>\n",
              "      <th>policyEndDate</th>\n",
              "      <th>exposureStartDate</th>\n",
              "      <th>exposureEndDate</th>\n",
              "      <th>TerminationEvent</th>\n",
              "      <th>terminationReason</th>\n",
              "      <th>train</th>\n",
              "    </tr>\n",
              "  </thead>\n",
              "  <tbody>\n",
              "    <tr>\n",
              "      <th>0</th>\n",
              "      <td>H 0826898</td>\n",
              "      <td>2</td>\n",
              "      <td>23</td>\n",
              "      <td>21</td>\n",
              "      <td>43</td>\n",
              "      <td>1990-05-08</td>\n",
              "      <td>2010-05-31</td>\n",
              "      <td>100.0</td>\n",
              "      <td>N</td>\n",
              "      <td>M</td>\n",
              "      <td>2A</td>\n",
              "      <td>NS</td>\n",
              "      <td>0</td>\n",
              "      <td>2 years</td>\n",
              "      <td>Short-Term</td>\n",
              "      <td>2012-04-14</td>\n",
              "      <td>6</td>\n",
              "      <td>56</td>\n",
              "      <td>Other cancer</td>\n",
              "      <td>IncomeReplacement</td>\n",
              "      <td>120</td>\n",
              "      <td>120+</td>\n",
              "      <td>2010-05-08</td>\n",
              "      <td>2011-05-07</td>\n",
              "      <td>2010-05-16</td>\n",
              "      <td>2010-06-15</td>\n",
              "      <td>1</td>\n",
              "      <td>Death</td>\n",
              "      <td>1</td>\n",
              "    </tr>\n",
              "    <tr>\n",
              "      <th>1</th>\n",
              "      <td>H 0828055</td>\n",
              "      <td>1</td>\n",
              "      <td>21</td>\n",
              "      <td>41</td>\n",
              "      <td>61</td>\n",
              "      <td>1976-10-15</td>\n",
              "      <td>2021-01-15</td>\n",
              "      <td>200.0</td>\n",
              "      <td>N</td>\n",
              "      <td>M</td>\n",
              "      <td>A</td>\n",
              "      <td>QC</td>\n",
              "      <td>0</td>\n",
              "      <td>2 years</td>\n",
              "      <td>Short-Term</td>\n",
              "      <td>2018-08-23</td>\n",
              "      <td>5</td>\n",
              "      <td>60</td>\n",
              "      <td>Other accident/poisonings</td>\n",
              "      <td>IncomeReplacement</td>\n",
              "      <td>7</td>\n",
              "      <td>00-30</td>\n",
              "      <td>2016-10-15</td>\n",
              "      <td>2017-10-14</td>\n",
              "      <td>2016-11-25</td>\n",
              "      <td>2016-12-24</td>\n",
              "      <td>0</td>\n",
              "      <td>None</td>\n",
              "      <td>0</td>\n",
              "    </tr>\n",
              "    <tr>\n",
              "      <th>2</th>\n",
              "      <td>H 0833653</td>\n",
              "      <td>1</td>\n",
              "      <td>35</td>\n",
              "      <td>30</td>\n",
              "      <td>64</td>\n",
              "      <td>1978-12-01</td>\n",
              "      <td>2009-04-01</td>\n",
              "      <td>200.0</td>\n",
              "      <td>N</td>\n",
              "      <td>M</td>\n",
              "      <td>3A</td>\n",
              "      <td>NS</td>\n",
              "      <td>0</td>\n",
              "      <td>To age 65</td>\n",
              "      <td>ToAge65</td>\n",
              "      <td>2009-03-29</td>\n",
              "      <td>5</td>\n",
              "      <td>63</td>\n",
              "      <td>Other genitourinary/reproductive disorders</td>\n",
              "      <td>IncomeReplacement</td>\n",
              "      <td>90</td>\n",
              "      <td>90</td>\n",
              "      <td>2007-12-01</td>\n",
              "      <td>2008-11-30</td>\n",
              "      <td>2008-05-26</td>\n",
              "      <td>2008-06-25</td>\n",
              "      <td>1</td>\n",
              "      <td>Other</td>\n",
              "      <td>1</td>\n",
              "    </tr>\n",
              "    <tr>\n",
              "      <th>3</th>\n",
              "      <td>H 0834890</td>\n",
              "      <td>1</td>\n",
              "      <td>30</td>\n",
              "      <td>30</td>\n",
              "      <td>59</td>\n",
              "      <td>1979-05-20</td>\n",
              "      <td>2014-08-20</td>\n",
              "      <td>725.0</td>\n",
              "      <td>N</td>\n",
              "      <td>M</td>\n",
              "      <td>2A</td>\n",
              "      <td>AB</td>\n",
              "      <td>0</td>\n",
              "      <td>5 years</td>\n",
              "      <td>Short-Term</td>\n",
              "      <td>2008-08-28</td>\n",
              "      <td>64</td>\n",
              "      <td>53</td>\n",
              "      <td>Other musculoskeletal disorders</td>\n",
              "      <td>IncomeReplacement</td>\n",
              "      <td>120</td>\n",
              "      <td>120+</td>\n",
              "      <td>2008-05-20</td>\n",
              "      <td>2009-05-19</td>\n",
              "      <td>2008-08-01</td>\n",
              "      <td>2008-08-31</td>\n",
              "      <td>0</td>\n",
              "      <td>None</td>\n",
              "      <td>1</td>\n",
              "    </tr>\n",
              "    <tr>\n",
              "      <th>4</th>\n",
              "      <td>H 0840908</td>\n",
              "      <td>1</td>\n",
              "      <td>28</td>\n",
              "      <td>33</td>\n",
              "      <td>60</td>\n",
              "      <td>1981-11-03</td>\n",
              "      <td>2018-05-03</td>\n",
              "      <td>500.0</td>\n",
              "      <td>N</td>\n",
              "      <td>M</td>\n",
              "      <td>A</td>\n",
              "      <td>QC</td>\n",
              "      <td>0</td>\n",
              "      <td>2 years</td>\n",
              "      <td>Short-Term</td>\n",
              "      <td>2015-10-16</td>\n",
              "      <td>4</td>\n",
              "      <td>60</td>\n",
              "      <td>Other musculoskeletal disorders</td>\n",
              "      <td>IncomeReplacement</td>\n",
              "      <td>30</td>\n",
              "      <td>00-30</td>\n",
              "      <td>2013-11-03</td>\n",
              "      <td>2014-11-02</td>\n",
              "      <td>2013-12-17</td>\n",
              "      <td>2014-01-16</td>\n",
              "      <td>1</td>\n",
              "      <td>Other</td>\n",
              "      <td>1</td>\n",
              "    </tr>\n",
              "  </tbody>\n",
              "</table>\n",
              "</div>"
            ],
            "text/plain": [
              "  PolicyNumber  CoverageNumber  ...  terminationReason  train\n",
              "0    H 0826898               2  ...              Death      1\n",
              "1    H 0828055               1  ...               None      0\n",
              "2    H 0833653               1  ...              Other      1\n",
              "3    H 0834890               1  ...               None      1\n",
              "4    H 0840908               1  ...              Other      1\n",
              "\n",
              "[5 rows x 29 columns]"
            ]
          },
          "metadata": {
            "tags": []
          },
          "execution_count": 82
        }
      ]
    },
    {
      "cell_type": "code",
      "metadata": {
        "id": "5fxB-UTjK_7X",
        "colab_type": "code",
        "colab": {
          "base_uri": "https://localhost:8080/",
          "height": 68
        },
        "outputId": "93b9aa87-0d50-44e0-c12f-6360ec784277"
      },
      "source": [
        "raw_dataset.benefitPeriod.unique()"
      ],
      "execution_count": 83,
      "outputs": [
        {
          "output_type": "execute_result",
          "data": {
            "text/plain": [
              "array(['2 years', 'To age 65', '5 years', 'Lifetime/To age 101',\n",
              "       '18 months', '10 years', '1 year', '3 years', '4 months',\n",
              "       'Not covered', '15 months'], dtype=object)"
            ]
          },
          "metadata": {
            "tags": []
          },
          "execution_count": 83
        }
      ]
    },
    {
      "cell_type": "code",
      "metadata": {
        "id": "z-WW1Ay-Mi5f",
        "colab_type": "code",
        "colab": {}
      },
      "source": [
        "def time_remaining(row):\n",
        "  remaining = np.nan\n",
        "  if row['benefitPeriod']=='2 years':\n",
        "    remaining = 24 - row['DisabilityDuration']\n",
        "  if row['benefitPeriod']=='To age 65':\n",
        "    remaining = 12*65 - row['disabilityAge'] - row['DisabilityDuration']\n",
        "  if row['benefitPeriod']=='Lifetime/To age 101':\n",
        "    remaining = 12*101 - row['disabilityAge'] - row['DisabilityDuration']\n",
        "  if row['benefitPeriod']=='5 years':\n",
        "    remaining = 60 - row['DisabilityDuration']\n",
        "  if row['benefitPeriod']=='18 months':\n",
        "    remaining = 18 - row['DisabilityDuration']\n",
        "  if row['benefitPeriod']=='10 years':\n",
        "    remaining = 120 - row['DisabilityDuration']\n",
        "  if row['benefitPeriod']=='1 year':\n",
        "    remaining = 12 - row['DisabilityDuration']\n",
        "  if row['benefitPeriod']=='3 years':\n",
        "    remaining = 36 - row['DisabilityDuration']\n",
        "  if row['benefitPeriod']=='4 months':\n",
        "    remaining = 4 - row['DisabilityDuration']\n",
        "  if row['benefitPeriod']=='Not covered':\n",
        "    remaining = 0\n",
        "  if row['benefitPeriod']=='15 months':\n",
        "    remaining = 15 - row['DisabilityDuration']\n",
        "  return remaining\n"
      ],
      "execution_count": 0,
      "outputs": []
    },
    {
      "cell_type": "code",
      "metadata": {
        "id": "L-_Ru0orLvmk",
        "colab_type": "code",
        "colab": {}
      },
      "source": [
        "raw_dataset[\"remaining_months\"] = raw_dataset.apply(time_remaining, axis=1)"
      ],
      "execution_count": 0,
      "outputs": []
    },
    {
      "cell_type": "code",
      "metadata": {
        "id": "KHuEPTEtQGi2",
        "colab_type": "code",
        "colab": {
          "base_uri": "https://localhost:8080/",
          "height": 282
        },
        "outputId": "ea059ac5-72c0-4e65-feca-e38c07255ca5"
      },
      "source": [
        "raw_dataset.remaining_months.hist()"
      ],
      "execution_count": 86,
      "outputs": [
        {
          "output_type": "execute_result",
          "data": {
            "text/plain": [
              "<matplotlib.axes._subplots.AxesSubplot at 0x7faaeb342b00>"
            ]
          },
          "metadata": {
            "tags": []
          },
          "execution_count": 86
        },
        {
          "output_type": "display_data",
          "data": {
            "image/png": "[encoded data removed]",
            "text/plain": [
              "<Figure size 432x288 with 1 Axes>"
            ]
          },
          "metadata": {
            "tags": []
          }
        }
      ]
    },
    {
      "cell_type": "code",
      "metadata": {
        "id": "rSgQZKHMkPOp",
        "colab_type": "code",
        "colab": {}
      },
      "source": [
        "#feature ideas\n",
        "# benefit period in yrs\n",
        "# elimination period in months?"
      ],
      "execution_count": 0,
      "outputs": []
    },
    {
      "cell_type": "code",
      "metadata": {
        "id": "nmEEFISBKmta",
        "colab_type": "code",
        "colab": {}
      },
      "source": [
        "to_drop = ['PolicyNumber', 'IssueDate', 'IssueAge','AttainedAge', 'MaturityDate', 'benefitExpiryDate', 'policyStartDate', 'policyEndDate',\n",
        "           'exposureStartDate', 'exposureEndDate','terminationReason']\n",
        "           \n",
        "raw_dataset.drop(columns=to_drop,inplace=True)"
      ],
      "execution_count": 0,
      "outputs": []
    },
    {
      "cell_type": "code",
      "metadata": {
        "id": "-kLrx3IQyEZ0",
        "colab_type": "code",
        "colab": {}
      },
      "source": [
        "#raw_dataset['CurrentAge'] = raw_dataset['disabilityAge'] + raw_dataset['DisabilityDuration']"
      ],
      "execution_count": 0,
      "outputs": []
    },
    {
      "cell_type": "code",
      "metadata": {
        "id": "MpC_xBWnyTfh",
        "colab_type": "code",
        "colab": {
          "base_uri": "https://localhost:8080/",
          "height": 136
        },
        "outputId": "bb7fdb90-4199-47d4-f78f-f39475c781a1"
      },
      "source": [
        "raw_dataset.columns"
      ],
      "execution_count": 135,
      "outputs": [
        {
          "output_type": "execute_result",
          "data": {
            "text/plain": [
              "Index(['CoverageNumber', 'PolicyYear', 'FaceAmount', 'SmokerStatus', 'Gender',\n",
              "       'OccupationClass', 'CurrentProvince', 'COLAIndicator', 'benefitPeriod',\n",
              "       'benefitPeriod_grouped', 'DisabilityDuration', 'disabilityAge',\n",
              "       'DisabilityReason', 'productDesign', 'EliminationPeriod',\n",
              "       'EliminationPeriod_grouped', 'TerminationEvent', 'train',\n",
              "       'remaining_months', 'CurrentAge'],\n",
              "      dtype='object')"
            ]
          },
          "metadata": {
            "tags": []
          },
          "execution_count": 135
        }
      ]
    },
    {
      "cell_type": "code",
      "metadata": {
        "id": "rg09yJbAGQrh",
        "colab_type": "code",
        "colab": {}
      },
      "source": [
        "categories = ['SmokerStatus', 'Gender', 'OccupationClass', 'CurrentProvince','COLAIndicator', 'benefitPeriod',\n",
        "              'benefitPeriod_grouped','DisabilityReason', 'productDesign', 'EliminationPeriod', \n",
        "              'EliminationPeriod_grouped']\n",
        "dataset = pd.get_dummies(raw_dataset, columns=categories, drop_first=True)    \n"
      ],
      "execution_count": 0,
      "outputs": []
    },
    {
      "cell_type": "code",
      "metadata": {
        "id": "6oyuydK9OaAS",
        "colab_type": "code",
        "colab": {}
      },
      "source": [
        "train_data = dataset[dataset.train==1]\n",
        "pred_data = dataset[dataset.train==0]"
      ],
      "execution_count": 0,
      "outputs": []
    },
    {
      "cell_type": "code",
      "metadata": {
        "id": "y210RugnWlVt",
        "colab_type": "code",
        "colab": {
          "base_uri": "https://localhost:8080/",
          "height": 102
        },
        "outputId": "f8bd190b-ffb7-4067-d046-c506845c60dd"
      },
      "source": [
        "train_data.drop(columns=['train'], inplace=True)"
      ],
      "execution_count": 91,
      "outputs": [
        {
          "output_type": "stream",
          "text": [
            "/usr/local/lib/python3.6/dist-packages/pandas/core/frame.py:4117: SettingWithCopyWarning: \n",
            "A value is trying to be set on a copy of a slice from a DataFrame\n",
            "\n",
            "See the caveats in the documentation: http://pandas.pydata.org/pandas-docs/stable/user_guide/indexing.html#returning-a-view-versus-a-copy\n",
            "  errors=errors,\n"
          ],
          "name": "stderr"
        }
      ]
    },
    {
      "cell_type": "code",
      "metadata": {
        "id": "sE65RvOdWLB6",
        "colab_type": "code",
        "outputId": "d4ea29bb-92e0-4b10-ee3b-57684f463c29",
        "colab": {
          "base_uri": "https://localhost:8080/",
          "height": 34
        }
      },
      "source": [
        "dataset.shape # (4539, 127)\n",
        "train_data.shape #(3348, 127)"
      ],
      "execution_count": 93,
      "outputs": [
        {
          "output_type": "execute_result",
          "data": {
            "text/plain": [
              "(3348, 111)"
            ]
          },
          "metadata": {
            "tags": []
          },
          "execution_count": 93
        }
      ]
    },
    {
      "cell_type": "code",
      "metadata": {
        "id": "h4zuTn4WLR_6",
        "colab_type": "code",
        "colab": {}
      },
      "source": [
        "# Creating the time and event columns\n",
        "time_column = 'DisabilityDuration'\n",
        "event_column = 'TerminationEvent'\n",
        "\n",
        "# Extracting the features\n",
        "features = np.setdiff1d(train_data.columns, [time_column, event_column] ).tolist()"
      ],
      "execution_count": 0,
      "outputs": []
    },
    {
      "cell_type": "code",
      "metadata": {
        "id": "S1cBbbwyMxeT",
        "colab_type": "code",
        "outputId": "baa42efc-93bc-4aff-ff21-6561f7c416fe",
        "colab": {
          "base_uri": "https://localhost:8080/",
          "height": 85
        }
      },
      "source": [
        "%%time\n",
        "# Checking for null values\n",
        "N_null = sum(train_data[features].isnull().sum())\n",
        "print(\"The train_dataset contains {} null values\".format(N_null)) #0 null values\n",
        "\n",
        "# Removing duplicates if there exist\n",
        "N_dupli = sum(train_data.duplicated(keep='first'))\n",
        "train_data = train_data.drop_duplicates(keep='first').reset_index(drop=True)\n",
        "print(\"The train_dataset contains {} duplicates\".format(N_dupli))\n",
        "\n",
        "# Number of samples in the dataset\n",
        "N = train_data.shape[0]"
      ],
      "execution_count": 95,
      "outputs": [
        {
          "output_type": "stream",
          "text": [
            "The train_dataset contains 0 null values\n",
            "The train_dataset contains 1 duplicates\n",
            "CPU times: user 51.8 ms, sys: 2.98 ms, total: 54.8 ms\n",
            "Wall time: 58 ms\n"
          ],
          "name": "stdout"
        }
      ]
    },
    {
      "cell_type": "code",
      "metadata": {
        "id": "QRcf1w_SXbm0",
        "colab_type": "code",
        "outputId": "0e0d23ab-0698-414a-c2fc-10c40dec6c3d",
        "colab": {
          "base_uri": "https://localhost:8080/",
          "height": 34
        }
      },
      "source": [
        "train_data.shape"
      ],
      "execution_count": 96,
      "outputs": [
        {
          "output_type": "execute_result",
          "data": {
            "text/plain": [
              "(3347, 111)"
            ]
          },
          "metadata": {
            "tags": []
          },
          "execution_count": 96
        }
      ]
    },
    {
      "cell_type": "code",
      "metadata": {
        "id": "MwcXsUZA2egc",
        "colab_type": "code",
        "colab": {}
      },
      "source": [
        "X_train, X_test, T_train, T_test, E_train, E_test = train_test_split(train_data[features],train_data[time_column], train_data[event_column],test_size = 0.25, random_state=12345, stratify=train_data[event_column])"
      ],
      "execution_count": 0,
      "outputs": []
    },
    {
      "cell_type": "code",
      "metadata": {
        "id": "YZOV9Bga38n1",
        "colab_type": "code",
        "outputId": "6bea9e26-2a3e-43bb-d646-cf38917798a0",
        "colab": {
          "base_uri": "https://localhost:8080/",
          "height": 34
        }
      },
      "source": [
        "X_train.shape"
      ],
      "execution_count": 98,
      "outputs": [
        {
          "output_type": "execute_result",
          "data": {
            "text/plain": [
              "(2510, 109)"
            ]
          },
          "metadata": {
            "tags": []
          },
          "execution_count": 98
        }
      ]
    },
    {
      "cell_type": "code",
      "metadata": {
        "id": "-X_tYuGLjEZa",
        "colab_type": "code",
        "colab": {
          "base_uri": "https://localhost:8080/",
          "height": 287
        },
        "outputId": "d0e64744-6820-429d-c916-523449759326"
      },
      "source": [
        "X_test.head()"
      ],
      "execution_count": 99,
      "outputs": [
        {
          "output_type": "execute_result",
          "data": {
            "text/html": [
              "<div>\n",
              "<style scoped>\n",
              "    .dataframe tbody tr th:only-of-type {\n",
              "        vertical-align: middle;\n",
              "    }\n",
              "\n",
              "    .dataframe tbody tr th {\n",
              "        vertical-align: top;\n",
              "    }\n",
              "\n",
              "    .dataframe thead th {\n",
              "        text-align: right;\n",
              "    }\n",
              "</style>\n",
              "<table border=\"1\" class=\"dataframe\">\n",
              "  <thead>\n",
              "    <tr style=\"text-align: right;\">\n",
              "      <th></th>\n",
              "      <th>COLAIndicator_1</th>\n",
              "      <th>CoverageNumber</th>\n",
              "      <th>CurrentAge</th>\n",
              "      <th>CurrentProvince_BC</th>\n",
              "      <th>CurrentProvince_MB</th>\n",
              "      <th>CurrentProvince_NB</th>\n",
              "      <th>CurrentProvince_NF</th>\n",
              "      <th>CurrentProvince_NS</th>\n",
              "      <th>CurrentProvince_ON</th>\n",
              "      <th>CurrentProvince_Outside Canada</th>\n",
              "      <th>CurrentProvince_PE</th>\n",
              "      <th>CurrentProvince_QC</th>\n",
              "      <th>CurrentProvince_SK</th>\n",
              "      <th>CurrentProvince_YT</th>\n",
              "      <th>DisabilityReason_Accidents/ poisoning/ violence</th>\n",
              "      <th>DisabilityReason_Allergic/ endocrine/ metabolic/ nutritional</th>\n",
              "      <th>DisabilityReason_Alzheimer's</th>\n",
              "      <th>DisabilityReason_Aneurysm/cerebral vascular accident</th>\n",
              "      <th>DisabilityReason_Arthritis</th>\n",
              "      <th>DisabilityReason_Asthma</th>\n",
              "      <th>DisabilityReason_Auto accident/MVA</th>\n",
              "      <th>DisabilityReason_Bi-polar/manic</th>\n",
              "      <th>DisabilityReason_Bowel cancer</th>\n",
              "      <th>DisabilityReason_Breast cancer</th>\n",
              "      <th>DisabilityReason_Carpal tunnel syndrome</th>\n",
              "      <th>DisabilityReason_Chemical sensitivity/environmental illness</th>\n",
              "      <th>DisabilityReason_Cholecystitis/gallstones</th>\n",
              "      <th>DisabilityReason_Chronic obstructive pulmonary/lung disorders</th>\n",
              "      <th>DisabilityReason_Chronic pain/fatigue syndrome</th>\n",
              "      <th>DisabilityReason_Congenital malformations</th>\n",
              "      <th>DisabilityReason_Congestive heart failure/CHF</th>\n",
              "      <th>DisabilityReason_Connective tissue disorders/lupus erythematosus</th>\n",
              "      <th>DisabilityReason_Coronary artery disease/By-pass</th>\n",
              "      <th>DisabilityReason_Crohn's disease/irritable bowel</th>\n",
              "      <th>DisabilityReason_Degenerative disc disease</th>\n",
              "      <th>DisabilityReason_Diabetes</th>\n",
              "      <th>DisabilityReason_Diseases of the bones and organs of movement</th>\n",
              "      <th>DisabilityReason_Diseases of the skin and cellular system</th>\n",
              "      <th>DisabilityReason_Fibromyalgia</th>\n",
              "      <th>DisabilityReason_Headaches/migraines</th>\n",
              "      <th>...</th>\n",
              "      <th>EliminationPeriod_15</th>\n",
              "      <th>EliminationPeriod_180</th>\n",
              "      <th>EliminationPeriod_30</th>\n",
              "      <th>EliminationPeriod_365</th>\n",
              "      <th>EliminationPeriod_60</th>\n",
              "      <th>EliminationPeriod_7</th>\n",
              "      <th>EliminationPeriod_730</th>\n",
              "      <th>EliminationPeriod_90</th>\n",
              "      <th>EliminationPeriod_grouped_120+</th>\n",
              "      <th>EliminationPeriod_grouped_60</th>\n",
              "      <th>EliminationPeriod_grouped_90</th>\n",
              "      <th>FaceAmount</th>\n",
              "      <th>Gender_M</th>\n",
              "      <th>OccupationClass_3A</th>\n",
              "      <th>OccupationClass_4A</th>\n",
              "      <th>OccupationClass_4S</th>\n",
              "      <th>OccupationClass_A</th>\n",
              "      <th>OccupationClass_B</th>\n",
              "      <th>PolicyYear</th>\n",
              "      <th>SmokerStatus_S</th>\n",
              "      <th>benefitPeriod_10 years</th>\n",
              "      <th>benefitPeriod_15 months</th>\n",
              "      <th>benefitPeriod_18 months</th>\n",
              "      <th>benefitPeriod_2 years</th>\n",
              "      <th>benefitPeriod_3 years</th>\n",
              "      <th>benefitPeriod_4 months</th>\n",
              "      <th>benefitPeriod_5 years</th>\n",
              "      <th>benefitPeriod_Lifetime/To age 101</th>\n",
              "      <th>benefitPeriod_Not covered</th>\n",
              "      <th>benefitPeriod_To age 65</th>\n",
              "      <th>benefitPeriod_grouped_Short-Term</th>\n",
              "      <th>benefitPeriod_grouped_ToAge65</th>\n",
              "      <th>disabilityAge</th>\n",
              "      <th>productDesign_ExpCompResidual</th>\n",
              "      <th>productDesign_ExpCompTotal</th>\n",
              "      <th>productDesign_IncomeReplacement</th>\n",
              "      <th>productDesign_Proguard</th>\n",
              "      <th>productDesign_Venture_ParRes</th>\n",
              "      <th>productDesign_Venture_Total</th>\n",
              "      <th>remaining_months</th>\n",
              "    </tr>\n",
              "  </thead>\n",
              "  <tbody>\n",
              "    <tr>\n",
              "      <th>1728</th>\n",
              "      <td>0</td>\n",
              "      <td>1</td>\n",
              "      <td>85</td>\n",
              "      <td>0</td>\n",
              "      <td>0</td>\n",
              "      <td>0</td>\n",
              "      <td>0</td>\n",
              "      <td>0</td>\n",
              "      <td>1</td>\n",
              "      <td>0</td>\n",
              "      <td>0</td>\n",
              "      <td>0</td>\n",
              "      <td>0</td>\n",
              "      <td>0</td>\n",
              "      <td>0</td>\n",
              "      <td>0</td>\n",
              "      <td>0</td>\n",
              "      <td>0</td>\n",
              "      <td>0</td>\n",
              "      <td>0</td>\n",
              "      <td>0</td>\n",
              "      <td>0</td>\n",
              "      <td>0</td>\n",
              "      <td>0</td>\n",
              "      <td>0</td>\n",
              "      <td>0</td>\n",
              "      <td>0</td>\n",
              "      <td>0</td>\n",
              "      <td>0</td>\n",
              "      <td>0</td>\n",
              "      <td>0</td>\n",
              "      <td>0</td>\n",
              "      <td>0</td>\n",
              "      <td>0</td>\n",
              "      <td>0</td>\n",
              "      <td>0</td>\n",
              "      <td>0</td>\n",
              "      <td>0</td>\n",
              "      <td>0</td>\n",
              "      <td>0</td>\n",
              "      <td>...</td>\n",
              "      <td>0</td>\n",
              "      <td>0</td>\n",
              "      <td>1</td>\n",
              "      <td>0</td>\n",
              "      <td>0</td>\n",
              "      <td>0</td>\n",
              "      <td>0</td>\n",
              "      <td>0</td>\n",
              "      <td>0</td>\n",
              "      <td>0</td>\n",
              "      <td>0</td>\n",
              "      <td>1300.0</td>\n",
              "      <td>1</td>\n",
              "      <td>1</td>\n",
              "      <td>0</td>\n",
              "      <td>0</td>\n",
              "      <td>0</td>\n",
              "      <td>0</td>\n",
              "      <td>25</td>\n",
              "      <td>1</td>\n",
              "      <td>0</td>\n",
              "      <td>0</td>\n",
              "      <td>0</td>\n",
              "      <td>1</td>\n",
              "      <td>0</td>\n",
              "      <td>0</td>\n",
              "      <td>0</td>\n",
              "      <td>0</td>\n",
              "      <td>0</td>\n",
              "      <td>0</td>\n",
              "      <td>1</td>\n",
              "      <td>0</td>\n",
              "      <td>60</td>\n",
              "      <td>0</td>\n",
              "      <td>0</td>\n",
              "      <td>1</td>\n",
              "      <td>0</td>\n",
              "      <td>0</td>\n",
              "      <td>0</td>\n",
              "      <td>-1</td>\n",
              "    </tr>\n",
              "    <tr>\n",
              "      <th>2740</th>\n",
              "      <td>0</td>\n",
              "      <td>1</td>\n",
              "      <td>127</td>\n",
              "      <td>0</td>\n",
              "      <td>0</td>\n",
              "      <td>0</td>\n",
              "      <td>0</td>\n",
              "      <td>0</td>\n",
              "      <td>0</td>\n",
              "      <td>0</td>\n",
              "      <td>0</td>\n",
              "      <td>1</td>\n",
              "      <td>0</td>\n",
              "      <td>0</td>\n",
              "      <td>0</td>\n",
              "      <td>0</td>\n",
              "      <td>0</td>\n",
              "      <td>0</td>\n",
              "      <td>1</td>\n",
              "      <td>0</td>\n",
              "      <td>0</td>\n",
              "      <td>0</td>\n",
              "      <td>0</td>\n",
              "      <td>0</td>\n",
              "      <td>0</td>\n",
              "      <td>0</td>\n",
              "      <td>0</td>\n",
              "      <td>0</td>\n",
              "      <td>0</td>\n",
              "      <td>0</td>\n",
              "      <td>0</td>\n",
              "      <td>0</td>\n",
              "      <td>0</td>\n",
              "      <td>0</td>\n",
              "      <td>0</td>\n",
              "      <td>0</td>\n",
              "      <td>0</td>\n",
              "      <td>0</td>\n",
              "      <td>0</td>\n",
              "      <td>0</td>\n",
              "      <td>...</td>\n",
              "      <td>0</td>\n",
              "      <td>0</td>\n",
              "      <td>0</td>\n",
              "      <td>0</td>\n",
              "      <td>0</td>\n",
              "      <td>0</td>\n",
              "      <td>0</td>\n",
              "      <td>1</td>\n",
              "      <td>0</td>\n",
              "      <td>0</td>\n",
              "      <td>1</td>\n",
              "      <td>1000.0</td>\n",
              "      <td>1</td>\n",
              "      <td>0</td>\n",
              "      <td>0</td>\n",
              "      <td>0</td>\n",
              "      <td>1</td>\n",
              "      <td>0</td>\n",
              "      <td>16</td>\n",
              "      <td>0</td>\n",
              "      <td>0</td>\n",
              "      <td>0</td>\n",
              "      <td>0</td>\n",
              "      <td>0</td>\n",
              "      <td>0</td>\n",
              "      <td>0</td>\n",
              "      <td>0</td>\n",
              "      <td>0</td>\n",
              "      <td>0</td>\n",
              "      <td>1</td>\n",
              "      <td>0</td>\n",
              "      <td>1</td>\n",
              "      <td>59</td>\n",
              "      <td>0</td>\n",
              "      <td>0</td>\n",
              "      <td>0</td>\n",
              "      <td>0</td>\n",
              "      <td>1</td>\n",
              "      <td>0</td>\n",
              "      <td>653</td>\n",
              "    </tr>\n",
              "    <tr>\n",
              "      <th>2120</th>\n",
              "      <td>0</td>\n",
              "      <td>1</td>\n",
              "      <td>59</td>\n",
              "      <td>0</td>\n",
              "      <td>0</td>\n",
              "      <td>0</td>\n",
              "      <td>0</td>\n",
              "      <td>0</td>\n",
              "      <td>1</td>\n",
              "      <td>0</td>\n",
              "      <td>0</td>\n",
              "      <td>0</td>\n",
              "      <td>0</td>\n",
              "      <td>0</td>\n",
              "      <td>0</td>\n",
              "      <td>0</td>\n",
              "      <td>0</td>\n",
              "      <td>0</td>\n",
              "      <td>0</td>\n",
              "      <td>0</td>\n",
              "      <td>0</td>\n",
              "      <td>0</td>\n",
              "      <td>0</td>\n",
              "      <td>1</td>\n",
              "      <td>0</td>\n",
              "      <td>0</td>\n",
              "      <td>0</td>\n",
              "      <td>0</td>\n",
              "      <td>0</td>\n",
              "      <td>0</td>\n",
              "      <td>0</td>\n",
              "      <td>0</td>\n",
              "      <td>0</td>\n",
              "      <td>0</td>\n",
              "      <td>0</td>\n",
              "      <td>0</td>\n",
              "      <td>0</td>\n",
              "      <td>0</td>\n",
              "      <td>0</td>\n",
              "      <td>0</td>\n",
              "      <td>...</td>\n",
              "      <td>0</td>\n",
              "      <td>0</td>\n",
              "      <td>0</td>\n",
              "      <td>0</td>\n",
              "      <td>0</td>\n",
              "      <td>0</td>\n",
              "      <td>0</td>\n",
              "      <td>0</td>\n",
              "      <td>1</td>\n",
              "      <td>0</td>\n",
              "      <td>0</td>\n",
              "      <td>3224.0</td>\n",
              "      <td>0</td>\n",
              "      <td>1</td>\n",
              "      <td>0</td>\n",
              "      <td>0</td>\n",
              "      <td>0</td>\n",
              "      <td>0</td>\n",
              "      <td>8</td>\n",
              "      <td>0</td>\n",
              "      <td>0</td>\n",
              "      <td>0</td>\n",
              "      <td>0</td>\n",
              "      <td>0</td>\n",
              "      <td>0</td>\n",
              "      <td>0</td>\n",
              "      <td>0</td>\n",
              "      <td>0</td>\n",
              "      <td>0</td>\n",
              "      <td>1</td>\n",
              "      <td>0</td>\n",
              "      <td>1</td>\n",
              "      <td>53</td>\n",
              "      <td>0</td>\n",
              "      <td>0</td>\n",
              "      <td>0</td>\n",
              "      <td>0</td>\n",
              "      <td>0</td>\n",
              "      <td>1</td>\n",
              "      <td>721</td>\n",
              "    </tr>\n",
              "    <tr>\n",
              "      <th>1071</th>\n",
              "      <td>0</td>\n",
              "      <td>1</td>\n",
              "      <td>78</td>\n",
              "      <td>0</td>\n",
              "      <td>0</td>\n",
              "      <td>0</td>\n",
              "      <td>0</td>\n",
              "      <td>0</td>\n",
              "      <td>1</td>\n",
              "      <td>0</td>\n",
              "      <td>0</td>\n",
              "      <td>0</td>\n",
              "      <td>0</td>\n",
              "      <td>0</td>\n",
              "      <td>0</td>\n",
              "      <td>0</td>\n",
              "      <td>0</td>\n",
              "      <td>0</td>\n",
              "      <td>0</td>\n",
              "      <td>0</td>\n",
              "      <td>0</td>\n",
              "      <td>0</td>\n",
              "      <td>0</td>\n",
              "      <td>0</td>\n",
              "      <td>0</td>\n",
              "      <td>0</td>\n",
              "      <td>0</td>\n",
              "      <td>0</td>\n",
              "      <td>0</td>\n",
              "      <td>0</td>\n",
              "      <td>0</td>\n",
              "      <td>0</td>\n",
              "      <td>0</td>\n",
              "      <td>0</td>\n",
              "      <td>0</td>\n",
              "      <td>0</td>\n",
              "      <td>0</td>\n",
              "      <td>0</td>\n",
              "      <td>0</td>\n",
              "      <td>0</td>\n",
              "      <td>...</td>\n",
              "      <td>0</td>\n",
              "      <td>0</td>\n",
              "      <td>0</td>\n",
              "      <td>0</td>\n",
              "      <td>0</td>\n",
              "      <td>0</td>\n",
              "      <td>0</td>\n",
              "      <td>1</td>\n",
              "      <td>0</td>\n",
              "      <td>0</td>\n",
              "      <td>1</td>\n",
              "      <td>800.0</td>\n",
              "      <td>1</td>\n",
              "      <td>1</td>\n",
              "      <td>0</td>\n",
              "      <td>0</td>\n",
              "      <td>0</td>\n",
              "      <td>0</td>\n",
              "      <td>23</td>\n",
              "      <td>1</td>\n",
              "      <td>0</td>\n",
              "      <td>0</td>\n",
              "      <td>0</td>\n",
              "      <td>1</td>\n",
              "      <td>0</td>\n",
              "      <td>0</td>\n",
              "      <td>0</td>\n",
              "      <td>0</td>\n",
              "      <td>0</td>\n",
              "      <td>0</td>\n",
              "      <td>1</td>\n",
              "      <td>0</td>\n",
              "      <td>50</td>\n",
              "      <td>0</td>\n",
              "      <td>0</td>\n",
              "      <td>0</td>\n",
              "      <td>1</td>\n",
              "      <td>0</td>\n",
              "      <td>0</td>\n",
              "      <td>-4</td>\n",
              "    </tr>\n",
              "    <tr>\n",
              "      <th>2709</th>\n",
              "      <td>0</td>\n",
              "      <td>1</td>\n",
              "      <td>122</td>\n",
              "      <td>0</td>\n",
              "      <td>0</td>\n",
              "      <td>0</td>\n",
              "      <td>0</td>\n",
              "      <td>0</td>\n",
              "      <td>1</td>\n",
              "      <td>0</td>\n",
              "      <td>0</td>\n",
              "      <td>0</td>\n",
              "      <td>0</td>\n",
              "      <td>0</td>\n",
              "      <td>0</td>\n",
              "      <td>0</td>\n",
              "      <td>0</td>\n",
              "      <td>0</td>\n",
              "      <td>0</td>\n",
              "      <td>0</td>\n",
              "      <td>0</td>\n",
              "      <td>0</td>\n",
              "      <td>0</td>\n",
              "      <td>0</td>\n",
              "      <td>0</td>\n",
              "      <td>0</td>\n",
              "      <td>0</td>\n",
              "      <td>0</td>\n",
              "      <td>0</td>\n",
              "      <td>0</td>\n",
              "      <td>0</td>\n",
              "      <td>0</td>\n",
              "      <td>0</td>\n",
              "      <td>0</td>\n",
              "      <td>0</td>\n",
              "      <td>0</td>\n",
              "      <td>0</td>\n",
              "      <td>0</td>\n",
              "      <td>0</td>\n",
              "      <td>0</td>\n",
              "      <td>...</td>\n",
              "      <td>0</td>\n",
              "      <td>0</td>\n",
              "      <td>1</td>\n",
              "      <td>0</td>\n",
              "      <td>0</td>\n",
              "      <td>0</td>\n",
              "      <td>0</td>\n",
              "      <td>0</td>\n",
              "      <td>0</td>\n",
              "      <td>0</td>\n",
              "      <td>0</td>\n",
              "      <td>1500.0</td>\n",
              "      <td>1</td>\n",
              "      <td>0</td>\n",
              "      <td>1</td>\n",
              "      <td>0</td>\n",
              "      <td>0</td>\n",
              "      <td>0</td>\n",
              "      <td>28</td>\n",
              "      <td>0</td>\n",
              "      <td>0</td>\n",
              "      <td>0</td>\n",
              "      <td>0</td>\n",
              "      <td>0</td>\n",
              "      <td>0</td>\n",
              "      <td>0</td>\n",
              "      <td>0</td>\n",
              "      <td>1</td>\n",
              "      <td>0</td>\n",
              "      <td>0</td>\n",
              "      <td>0</td>\n",
              "      <td>0</td>\n",
              "      <td>55</td>\n",
              "      <td>0</td>\n",
              "      <td>0</td>\n",
              "      <td>1</td>\n",
              "      <td>0</td>\n",
              "      <td>0</td>\n",
              "      <td>0</td>\n",
              "      <td>1090</td>\n",
              "    </tr>\n",
              "  </tbody>\n",
              "</table>\n",
              "<p>5 rows × 109 columns</p>\n",
              "</div>"
            ],
            "text/plain": [
              "      COLAIndicator_1  ...  remaining_months\n",
              "1728                0  ...                -1\n",
              "2740                0  ...               653\n",
              "2120                0  ...               721\n",
              "1071                0  ...                -4\n",
              "2709                0  ...              1090\n",
              "\n",
              "[5 rows x 109 columns]"
            ]
          },
          "metadata": {
            "tags": []
          },
          "execution_count": 99
        }
      ]
    },
    {
      "cell_type": "code",
      "metadata": {
        "id": "VO-Asvdkr4TH",
        "colab_type": "code",
        "colab": {}
      },
      "source": [
        ""
      ],
      "execution_count": 0,
      "outputs": []
    },
    {
      "cell_type": "code",
      "metadata": {
        "id": "E_yuRy1CnXxN",
        "colab_type": "code",
        "outputId": "1a1c9fc6-c98c-4715-ec6e-9c9570092481",
        "colab": {
          "base_uri": "https://localhost:8080/",
          "height": 51
        }
      },
      "source": [
        "%%time\n",
        "##6\n",
        "from pysurvival.models.survival_forest import ConditionalSurvivalForestModel\n",
        "\n",
        "# Fitting the model\n",
        "csf = ConditionalSurvivalForestModel(num_trees=200)\n",
        "csf.fit(X_train, T_train, E_train, max_features='sqrt',\n",
        "        max_depth=5, min_node_size=20, alpha=0.05, minprop=0.1) #0.74"
      ],
      "execution_count": 102,
      "outputs": [
        {
          "output_type": "stream",
          "text": [
            "CPU times: user 5min 16s, sys: 261 ms, total: 5min 16s\n",
            "Wall time: 2min 40s\n"
          ],
          "name": "stdout"
        }
      ]
    },
    {
      "cell_type": "code",
      "metadata": {
        "id": "2XEyMsLMnfm-",
        "colab_type": "code",
        "outputId": "b0e68929-29fc-48f5-e5d4-5394857c9abf",
        "colab": {
          "base_uri": "https://localhost:8080/",
          "height": 359
        }
      },
      "source": [
        "# Computing variables importance\n",
        "csf.variable_importance_table.head(10)"
      ],
      "execution_count": 126,
      "outputs": [
        {
          "output_type": "execute_result",
          "data": {
            "text/html": [
              "<div>\n",
              "<style scoped>\n",
              "    .dataframe tbody tr th:only-of-type {\n",
              "        vertical-align: middle;\n",
              "    }\n",
              "\n",
              "    .dataframe tbody tr th {\n",
              "        vertical-align: top;\n",
              "    }\n",
              "\n",
              "    .dataframe thead th {\n",
              "        text-align: right;\n",
              "    }\n",
              "</style>\n",
              "<table border=\"1\" class=\"dataframe\">\n",
              "  <thead>\n",
              "    <tr style=\"text-align: right;\">\n",
              "      <th></th>\n",
              "      <th>feature</th>\n",
              "      <th>importance</th>\n",
              "      <th>pct_importance</th>\n",
              "    </tr>\n",
              "  </thead>\n",
              "  <tbody>\n",
              "    <tr>\n",
              "      <th>0</th>\n",
              "      <td>CurrentAge</td>\n",
              "      <td>10.892526</td>\n",
              "      <td>0.120140</td>\n",
              "    </tr>\n",
              "    <tr>\n",
              "      <th>1</th>\n",
              "      <td>remaining_months</td>\n",
              "      <td>9.351787</td>\n",
              "      <td>0.103146</td>\n",
              "    </tr>\n",
              "    <tr>\n",
              "      <th>2</th>\n",
              "      <td>PolicyYear</td>\n",
              "      <td>6.246171</td>\n",
              "      <td>0.068893</td>\n",
              "    </tr>\n",
              "    <tr>\n",
              "      <th>3</th>\n",
              "      <td>EliminationPeriod_grouped_120+</td>\n",
              "      <td>4.995875</td>\n",
              "      <td>0.055102</td>\n",
              "    </tr>\n",
              "    <tr>\n",
              "      <th>4</th>\n",
              "      <td>EliminationPeriod_120</td>\n",
              "      <td>4.723088</td>\n",
              "      <td>0.052094</td>\n",
              "    </tr>\n",
              "    <tr>\n",
              "      <th>5</th>\n",
              "      <td>productDesign_IncomeReplacement</td>\n",
              "      <td>3.818441</td>\n",
              "      <td>0.042116</td>\n",
              "    </tr>\n",
              "    <tr>\n",
              "      <th>6</th>\n",
              "      <td>benefitPeriod_grouped_ToAge65</td>\n",
              "      <td>3.747407</td>\n",
              "      <td>0.041332</td>\n",
              "    </tr>\n",
              "    <tr>\n",
              "      <th>7</th>\n",
              "      <td>benefitPeriod_To age 65</td>\n",
              "      <td>3.279542</td>\n",
              "      <td>0.036172</td>\n",
              "    </tr>\n",
              "    <tr>\n",
              "      <th>8</th>\n",
              "      <td>CurrentProvince_QC</td>\n",
              "      <td>3.267483</td>\n",
              "      <td>0.036039</td>\n",
              "    </tr>\n",
              "    <tr>\n",
              "      <th>9</th>\n",
              "      <td>productDesign_Venture_Total</td>\n",
              "      <td>3.232249</td>\n",
              "      <td>0.035650</td>\n",
              "    </tr>\n",
              "  </tbody>\n",
              "</table>\n",
              "</div>"
            ],
            "text/plain": [
              "                           feature  importance  pct_importance\n",
              "0                       CurrentAge   10.892526        0.120140\n",
              "1                 remaining_months    9.351787        0.103146\n",
              "2                       PolicyYear    6.246171        0.068893\n",
              "3   EliminationPeriod_grouped_120+    4.995875        0.055102\n",
              "4            EliminationPeriod_120    4.723088        0.052094\n",
              "5  productDesign_IncomeReplacement    3.818441        0.042116\n",
              "6    benefitPeriod_grouped_ToAge65    3.747407        0.041332\n",
              "7          benefitPeriod_To age 65    3.279542        0.036172\n",
              "8               CurrentProvince_QC    3.267483        0.036039\n",
              "9      productDesign_Venture_Total    3.232249        0.035650"
            ]
          },
          "metadata": {
            "tags": []
          },
          "execution_count": 126
        }
      ]
    },
    {
      "cell_type": "code",
      "metadata": {
        "id": "yBVF5QTqocTo",
        "colab_type": "code",
        "outputId": "2e19102e-1118-4bd5-d5b3-9e5ca839b3ce",
        "colab": {
          "base_uri": "https://localhost:8080/",
          "height": 34
        }
      },
      "source": [
        "#cross validation\n",
        "from pysurvival.utils.metrics import concordance_index\n",
        "c_index = concordance_index(csf, X_test, T_test, E_test)\n",
        "print('C-index: {:.2f}'.format(c_index)) #0.75"
      ],
      "execution_count": 104,
      "outputs": [
        {
          "output_type": "stream",
          "text": [
            "C-index: 0.77\n"
          ],
          "name": "stdout"
        }
      ]
    },
    {
      "cell_type": "code",
      "metadata": {
        "id": "19KkQnS0Z0-u",
        "colab_type": "code",
        "colab": {
          "base_uri": "https://localhost:8080/",
          "height": 439
        },
        "outputId": "44163fa3-303b-45c5-b0c4-2a37144fe4ee"
      },
      "source": [
        "ibs = integrated_brier_score(csf, X_test, T_test, E_test, t_max=600,\n",
        "            figure_size=(20, 6.5) )\n",
        "print('IBS: {:.2f}'.format(ibs))"
      ],
      "execution_count": 105,
      "outputs": [
        {
          "output_type": "display_data",
          "data": {
            "image/png": "[encoded data removed]",
            "text/plain": [
              "<Figure size 1440x468 with 1 Axes>"
            ]
          },
          "metadata": {
            "tags": []
          }
        },
        {
          "output_type": "stream",
          "text": [
            "IBS: 0.09\n"
          ],
          "name": "stdout"
        }
      ]
    },
    {
      "cell_type": "code",
      "metadata": {
        "id": "5EqjR58NaCcB",
        "colab_type": "code",
        "colab": {
          "base_uri": "https://localhost:8080/",
          "height": 444
        },
        "outputId": "541f6fab-0512-4fb2-d87e-8001110fd66b"
      },
      "source": [
        "from pysurvival.utils.display import compare_to_actual\n",
        "results = compare_to_actual(csf, X_test, T_test, E_test,\n",
        "                            is_at_risk = True,  figure_size=(16, 6),\n",
        "                            metrics = ['rmse', 'mean', 'median'])"
      ],
      "execution_count": 106,
      "outputs": [
        {
          "output_type": "display_data",
          "data": {
            "image/png": "[encoded data removed]",
            "text/plain": [
              "<Figure size 1152x432 with 1 Axes>"
            ]
          },
          "metadata": {
            "tags": []
          }
        }
      ]
    },
    {
      "cell_type": "code",
      "metadata": {
        "id": "s0VAvm4Eurb1",
        "colab_type": "code",
        "colab": {
          "base_uri": "https://localhost:8080/",
          "height": 340
        },
        "outputId": "5df0fb66-2c62-44df-9bf7-f10b8f82f319"
      },
      "source": [
        "k = 20\n",
        "predicted = csf.predict_survival(X_test.values[k, :], t=T_test.iloc[k]).flatten()\n",
        "print(X_test.values[k, :])\n",
        "print(T_test.iloc[k])\n",
        "print(predicted)\n",
        "print(E_test.iloc[k])"
      ],
      "execution_count": 127,
      "outputs": [
        {
          "output_type": "stream",
          "text": [
            "[0.000e+00 1.000e+00 5.400e+01 0.000e+00 0.000e+00 0.000e+00 0.000e+00\n",
            " 0.000e+00 0.000e+00 0.000e+00 0.000e+00 1.000e+00 0.000e+00 0.000e+00\n",
            " 0.000e+00 0.000e+00 0.000e+00 0.000e+00 0.000e+00 0.000e+00 0.000e+00\n",
            " 0.000e+00 0.000e+00 0.000e+00 1.000e+00 0.000e+00 0.000e+00 0.000e+00\n",
            " 0.000e+00 0.000e+00 0.000e+00 0.000e+00 0.000e+00 0.000e+00 0.000e+00\n",
            " 0.000e+00 0.000e+00 0.000e+00 0.000e+00 0.000e+00 0.000e+00 0.000e+00\n",
            " 0.000e+00 0.000e+00 0.000e+00 0.000e+00 0.000e+00 0.000e+00 0.000e+00\n",
            " 0.000e+00 0.000e+00 0.000e+00 0.000e+00 0.000e+00 0.000e+00 0.000e+00\n",
            " 0.000e+00 0.000e+00 0.000e+00 0.000e+00 0.000e+00 0.000e+00 0.000e+00\n",
            " 0.000e+00 0.000e+00 0.000e+00 0.000e+00 0.000e+00 0.000e+00 0.000e+00\n",
            " 0.000e+00 1.000e+00 0.000e+00 0.000e+00 0.000e+00 0.000e+00 0.000e+00\n",
            " 0.000e+00 0.000e+00 0.000e+00 1.764e+03 1.000e+00 0.000e+00 0.000e+00\n",
            " 0.000e+00 1.000e+00 0.000e+00 1.700e+01 1.000e+00 0.000e+00 0.000e+00\n",
            " 0.000e+00 0.000e+00 0.000e+00 0.000e+00 0.000e+00 0.000e+00 0.000e+00\n",
            " 1.000e+00 0.000e+00 1.000e+00 5.200e+01 0.000e+00 0.000e+00 0.000e+00\n",
            " 0.000e+00 0.000e+00 1.000e+00 7.260e+02]\n",
            "2\n",
            "[0.94002313]\n",
            "1\n"
          ],
          "name": "stdout"
        }
      ]
    },
    {
      "cell_type": "code",
      "metadata": {
        "id": "PdrNw5SUu2QK",
        "colab_type": "code",
        "colab": {}
      },
      "source": [
        "#test set survival function -  probability that the event of interest has not occurred by some time \n",
        "p = []\n",
        "for i in range(len(X_test)):\n",
        "    p.extend(csf.predict_survival(X_test.values[i, :], t=T_test.iloc[i]).flatten())"
      ],
      "execution_count": 0,
      "outputs": []
    },
    {
      "cell_type": "code",
      "metadata": {
        "id": "uRu8BrA1v-qI",
        "colab_type": "code",
        "colab": {}
      },
      "source": [
        "X_test[\"survival_function\"] = pd.DataFrame(p)"
      ],
      "execution_count": 0,
      "outputs": []
    },
    {
      "cell_type": "code",
      "metadata": {
        "id": "U0WVDTz2wJs3",
        "colab_type": "code",
        "colab": {
          "base_uri": "https://localhost:8080/",
          "height": 282
        },
        "outputId": "068e7607-de27-45a5-9879-6ba846e75766"
      },
      "source": [
        "X_test.survival_function.hist()"
      ],
      "execution_count": 131,
      "outputs": [
        {
          "output_type": "execute_result",
          "data": {
            "text/plain": [
              "<matplotlib.axes._subplots.AxesSubplot at 0x7faaeb888160>"
            ]
          },
          "metadata": {
            "tags": []
          },
          "execution_count": 131
        },
        {
          "output_type": "display_data",
          "data": {
            "image/png": "[encoded data removed]",
            "text/plain": [
              "<Figure size 432x288 with 1 Axes>"
            ]
          },
          "metadata": {
            "tags": []
          }
        }
      ]
    },
    {
      "cell_type": "code",
      "metadata": {
        "id": "g9CElX3rxztY",
        "colab_type": "code",
        "colab": {
          "base_uri": "https://localhost:8080/",
          "height": 323
        },
        "outputId": "89f44502-bd18-49dc-d4f5-923f929500f8"
      },
      "source": [
        "pred_data['CurrentAge'] = pred_data[\"CurrentAge\"].apply(lambda x: x+1)\n",
        "pred_data['DisabilityDuration'] = pred_data[\"DisabilityDuration\"].apply(lambda x: x+12)\n",
        "pred_data['DisabilityDuration'] = pred_data[\"DisabilityDuration\"].apply(lambda x: x-12)"
      ],
      "execution_count": 136,
      "outputs": [
        {
          "output_type": "stream",
          "text": [
            "/usr/local/lib/python3.6/dist-packages/ipykernel_launcher.py:1: SettingWithCopyWarning: \n",
            "A value is trying to be set on a copy of a slice from a DataFrame.\n",
            "Try using .loc[row_indexer,col_indexer] = value instead\n",
            "\n",
            "See the caveats in the documentation: http://pandas.pydata.org/pandas-docs/stable/user_guide/indexing.html#returning-a-view-versus-a-copy\n",
            "  \"\"\"Entry point for launching an IPython kernel.\n",
            "/usr/local/lib/python3.6/dist-packages/ipykernel_launcher.py:2: SettingWithCopyWarning: \n",
            "A value is trying to be set on a copy of a slice from a DataFrame.\n",
            "Try using .loc[row_indexer,col_indexer] = value instead\n",
            "\n",
            "See the caveats in the documentation: http://pandas.pydata.org/pandas-docs/stable/user_guide/indexing.html#returning-a-view-versus-a-copy\n",
            "  \n",
            "/usr/local/lib/python3.6/dist-packages/ipykernel_launcher.py:3: SettingWithCopyWarning: \n",
            "A value is trying to be set on a copy of a slice from a DataFrame.\n",
            "Try using .loc[row_indexer,col_indexer] = value instead\n",
            "\n",
            "See the caveats in the documentation: http://pandas.pydata.org/pandas-docs/stable/user_guide/indexing.html#returning-a-view-versus-a-copy\n",
            "  This is separate from the ipykernel package so we can avoid doing imports until\n"
          ],
          "name": "stderr"
        }
      ]
    },
    {
      "cell_type": "code",
      "metadata": {
        "id": "DiE8TjaTwyfa",
        "colab_type": "code",
        "colab": {}
      },
      "source": [
        "X_pred, T_pred = pred_data[features],pred_data[time_column]"
      ],
      "execution_count": 0,
      "outputs": []
    },
    {
      "cell_type": "code",
      "metadata": {
        "id": "pUJasuJxzOUv",
        "colab_type": "code",
        "colab": {
          "base_uri": "https://localhost:8080/",
          "height": 119
        },
        "outputId": "09718e4b-11ea-4aaf-8f21-c528c2d68741"
      },
      "source": [
        "p = []\n",
        "for i in range(len(X_pred)):\n",
        "    p.extend(csf.predict_survival(X_pred.values[i, :], t=T_pred.iloc[i]).flatten())\n",
        "X_pred[\"survival_function\"] = pd.DataFrame(p)"
      ],
      "execution_count": 139,
      "outputs": [
        {
          "output_type": "stream",
          "text": [
            "/usr/local/lib/python3.6/dist-packages/ipykernel_launcher.py:4: SettingWithCopyWarning: \n",
            "A value is trying to be set on a copy of a slice from a DataFrame.\n",
            "Try using .loc[row_indexer,col_indexer] = value instead\n",
            "\n",
            "See the caveats in the documentation: http://pandas.pydata.org/pandas-docs/stable/user_guide/indexing.html#returning-a-view-versus-a-copy\n",
            "  after removing the cwd from sys.path.\n"
          ],
          "name": "stderr"
        }
      ]
    },
    {
      "cell_type": "code",
      "metadata": {
        "id": "-ySuKN7Ezgw_",
        "colab_type": "code",
        "colab": {
          "base_uri": "https://localhost:8080/",
          "height": 282
        },
        "outputId": "9c4c3736-1686-4167-9a03-1366767b7b85"
      },
      "source": [
        "X_pred.survival_function.hist()"
      ],
      "execution_count": 140,
      "outputs": [
        {
          "output_type": "execute_result",
          "data": {
            "text/plain": [
              "<matplotlib.axes._subplots.AxesSubplot at 0x7faae93c62b0>"
            ]
          },
          "metadata": {
            "tags": []
          },
          "execution_count": 140
        },
        {
          "output_type": "display_data",
          "data": {
            "image/png": "[encoded data removed]",
            "text/plain": [
              "<Figure size 432x288 with 1 Axes>"
            ]
          },
          "metadata": {
            "tags": []
          }
        }
      ]
    }
  ]
}