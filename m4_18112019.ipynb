{
  "nbformat": 4,
  "nbformat_minor": 0,
  "metadata": {
    "colab": {
      "name": "m4_13112019.ipynb",
      "provenance": [],
      "collapsed_sections": [],
      "include_colab_link": true
    },
    "kernelspec": {
      "name": "python3",
      "display_name": "Python 3"
    },
    "accelerator": "GPU"
  },
  "cells": [
    {
      "cell_type": "markdown",
      "metadata": {
        "id": "view-in-github",
        "colab_type": "text"
      },
      "source": [
        "<a href=\"https://colab.research.google.com/github/sabyasm/m4/blob/master/m4_18112019.ipynb\" target=\"_parent\"><img src=\"https://colab.research.google.com/assets/colab-badge.svg\" alt=\"Open In Colab\"/></a>"
      ]
    },
    {
      "cell_type": "code",
      "metadata": {
        "id": "QhxRNQbhGGih",
        "colab_type": "code",
        "colab": {}
      },
      "source": [
        "!pip install pysurvival &> /dev/null"
      ],
      "execution_count": 0,
      "outputs": []
    },
    {
      "cell_type": "code",
      "metadata": {
        "id": "TLbTNshpGiJF",
        "colab_type": "code",
        "colab": {}
      },
      "source": [
        "!curl -Lo m4.pkl https://manu00.s3-us-west-2.amazonaws.com/m4.pkl &> /dev/null"
      ],
      "execution_count": 0,
      "outputs": []
    },
    {
      "cell_type": "code",
      "metadata": {
        "id": "JjcLdfwPG4YE",
        "colab_type": "code",
        "outputId": "d9208c6f-dd3f-4c37-b789-c9c81f595e1f",
        "colab": {
          "base_uri": "https://localhost:8080/",
          "height": 34
        }
      },
      "source": [
        "#### 1 - Importing packages\n",
        "import numpy as np\n",
        "import pandas as pd\n",
        "from matplotlib import pyplot as plt\n",
        "from sklearn.model_selection import train_test_split\n",
        "from pysurvival.models.simulations import SimulationModel\n",
        "from pysurvival.models.parametric import GompertzModel\n",
        "from pysurvival.utils.metrics import concordance_index\n",
        "from pysurvival.utils.display import integrated_brier_score\n",
        "# Building training and testing sets\n",
        "from sklearn.model_selection import train_test_split\n",
        "%pylab inline"
      ],
      "execution_count": 3,
      "outputs": [
        {
          "output_type": "stream",
          "text": [
            "Populating the interactive namespace from numpy and matplotlib\n"
          ],
          "name": "stdout"
        }
      ]
    },
    {
      "cell_type": "code",
      "metadata": {
        "id": "EbKlu4RpHSnT",
        "colab_type": "code",
        "colab": {}
      },
      "source": [
        "# Reading the dataset\n",
        "raw_dataset = pd.read_pickle(\"m4.pkl\")"
      ],
      "execution_count": 0,
      "outputs": []
    },
    {
      "cell_type": "code",
      "metadata": {
        "id": "wRplTYGaHcWT",
        "colab_type": "code",
        "outputId": "ccc28b4c-0304-4009-f8d8-9c7a772feae5",
        "colab": {
          "base_uri": "https://localhost:8080/",
          "height": 187
        }
      },
      "source": [
        "raw_dataset.columns"
      ],
      "execution_count": 5,
      "outputs": [
        {
          "output_type": "execute_result",
          "data": {
            "text/plain": [
              "Index(['PolicyNumber', 'CoverageNumber', 'IssueAge', 'PolicyYear',\n",
              "       'AttainedAge', 'IssueDate', 'MaturityDate', 'FaceAmount',\n",
              "       'SmokerStatus', 'Gender', 'OccupationClass', 'CurrentProvince',\n",
              "       'COLAIndicator', 'benefitPeriod', 'benefitPeriod_grouped',\n",
              "       'benefitExpiryDate', 'DisabilityDuration', 'disabilityAge',\n",
              "       'DisabilityReason', 'productDesign', 'EliminationPeriod',\n",
              "       'EliminationPeriod_grouped', 'policyStartDate', 'policyEndDate',\n",
              "       'exposureStartDate', 'exposureEndDate', 'TerminationEvent',\n",
              "       'terminationReason', 'train'],\n",
              "      dtype='object')"
            ]
          },
          "metadata": {
            "tags": []
          },
          "execution_count": 5
        }
      ]
    },
    {
      "cell_type": "code",
      "metadata": {
        "id": "luArgfJkHvtF",
        "colab_type": "code",
        "outputId": "8dd2d674-851e-41e2-8235-30c46ecbe701",
        "colab": {
          "base_uri": "https://localhost:8080/",
          "height": 326
        }
      },
      "source": [
        "raw_dataset.head()"
      ],
      "execution_count": 6,
      "outputs": [
        {
          "output_type": "execute_result",
          "data": {
            "text/html": [
              "<div>\n",
              "<style scoped>\n",
              "    .dataframe tbody tr th:only-of-type {\n",
              "        vertical-align: middle;\n",
              "    }\n",
              "\n",
              "    .dataframe tbody tr th {\n",
              "        vertical-align: top;\n",
              "    }\n",
              "\n",
              "    .dataframe thead th {\n",
              "        text-align: right;\n",
              "    }\n",
              "</style>\n",
              "<table border=\"1\" class=\"dataframe\">\n",
              "  <thead>\n",
              "    <tr style=\"text-align: right;\">\n",
              "      <th></th>\n",
              "      <th>PolicyNumber</th>\n",
              "      <th>CoverageNumber</th>\n",
              "      <th>IssueAge</th>\n",
              "      <th>PolicyYear</th>\n",
              "      <th>AttainedAge</th>\n",
              "      <th>IssueDate</th>\n",
              "      <th>MaturityDate</th>\n",
              "      <th>FaceAmount</th>\n",
              "      <th>SmokerStatus</th>\n",
              "      <th>Gender</th>\n",
              "      <th>OccupationClass</th>\n",
              "      <th>CurrentProvince</th>\n",
              "      <th>COLAIndicator</th>\n",
              "      <th>benefitPeriod</th>\n",
              "      <th>benefitPeriod_grouped</th>\n",
              "      <th>benefitExpiryDate</th>\n",
              "      <th>DisabilityDuration</th>\n",
              "      <th>disabilityAge</th>\n",
              "      <th>DisabilityReason</th>\n",
              "      <th>productDesign</th>\n",
              "      <th>EliminationPeriod</th>\n",
              "      <th>EliminationPeriod_grouped</th>\n",
              "      <th>policyStartDate</th>\n",
              "      <th>policyEndDate</th>\n",
              "      <th>exposureStartDate</th>\n",
              "      <th>exposureEndDate</th>\n",
              "      <th>TerminationEvent</th>\n",
              "      <th>terminationReason</th>\n",
              "      <th>train</th>\n",
              "    </tr>\n",
              "  </thead>\n",
              "  <tbody>\n",
              "    <tr>\n",
              "      <th>0</th>\n",
              "      <td>H 0826898</td>\n",
              "      <td>2</td>\n",
              "      <td>23</td>\n",
              "      <td>21</td>\n",
              "      <td>43</td>\n",
              "      <td>1990-05-08</td>\n",
              "      <td>2010-05-31</td>\n",
              "      <td>100.0</td>\n",
              "      <td>N</td>\n",
              "      <td>M</td>\n",
              "      <td>2A</td>\n",
              "      <td>NS</td>\n",
              "      <td>0</td>\n",
              "      <td>2 years</td>\n",
              "      <td>Short-Term</td>\n",
              "      <td>2012-04-14</td>\n",
              "      <td>6</td>\n",
              "      <td>56</td>\n",
              "      <td>Other cancer</td>\n",
              "      <td>IncomeReplacement</td>\n",
              "      <td>120</td>\n",
              "      <td>120+</td>\n",
              "      <td>2010-05-08</td>\n",
              "      <td>2011-05-07</td>\n",
              "      <td>2010-05-16</td>\n",
              "      <td>2010-06-15</td>\n",
              "      <td>1</td>\n",
              "      <td>Death</td>\n",
              "      <td>1</td>\n",
              "    </tr>\n",
              "    <tr>\n",
              "      <th>1</th>\n",
              "      <td>H 0828055</td>\n",
              "      <td>1</td>\n",
              "      <td>21</td>\n",
              "      <td>41</td>\n",
              "      <td>61</td>\n",
              "      <td>1976-10-15</td>\n",
              "      <td>2021-01-15</td>\n",
              "      <td>200.0</td>\n",
              "      <td>N</td>\n",
              "      <td>M</td>\n",
              "      <td>A</td>\n",
              "      <td>QC</td>\n",
              "      <td>0</td>\n",
              "      <td>2 years</td>\n",
              "      <td>Short-Term</td>\n",
              "      <td>2018-08-23</td>\n",
              "      <td>5</td>\n",
              "      <td>60</td>\n",
              "      <td>Other accident/poisonings</td>\n",
              "      <td>IncomeReplacement</td>\n",
              "      <td>7</td>\n",
              "      <td>00-30</td>\n",
              "      <td>2016-10-15</td>\n",
              "      <td>2017-10-14</td>\n",
              "      <td>2016-11-25</td>\n",
              "      <td>2016-12-24</td>\n",
              "      <td>0</td>\n",
              "      <td>None</td>\n",
              "      <td>0</td>\n",
              "    </tr>\n",
              "    <tr>\n",
              "      <th>2</th>\n",
              "      <td>H 0833653</td>\n",
              "      <td>1</td>\n",
              "      <td>35</td>\n",
              "      <td>30</td>\n",
              "      <td>64</td>\n",
              "      <td>1978-12-01</td>\n",
              "      <td>2009-04-01</td>\n",
              "      <td>200.0</td>\n",
              "      <td>N</td>\n",
              "      <td>M</td>\n",
              "      <td>3A</td>\n",
              "      <td>NS</td>\n",
              "      <td>0</td>\n",
              "      <td>To age 65</td>\n",
              "      <td>ToAge65</td>\n",
              "      <td>2009-03-29</td>\n",
              "      <td>5</td>\n",
              "      <td>63</td>\n",
              "      <td>Other genitourinary/reproductive disorders</td>\n",
              "      <td>IncomeReplacement</td>\n",
              "      <td>90</td>\n",
              "      <td>90</td>\n",
              "      <td>2007-12-01</td>\n",
              "      <td>2008-11-30</td>\n",
              "      <td>2008-05-26</td>\n",
              "      <td>2008-06-25</td>\n",
              "      <td>1</td>\n",
              "      <td>Other</td>\n",
              "      <td>1</td>\n",
              "    </tr>\n",
              "    <tr>\n",
              "      <th>3</th>\n",
              "      <td>H 0834890</td>\n",
              "      <td>1</td>\n",
              "      <td>30</td>\n",
              "      <td>30</td>\n",
              "      <td>59</td>\n",
              "      <td>1979-05-20</td>\n",
              "      <td>2014-08-20</td>\n",
              "      <td>725.0</td>\n",
              "      <td>N</td>\n",
              "      <td>M</td>\n",
              "      <td>2A</td>\n",
              "      <td>AB</td>\n",
              "      <td>0</td>\n",
              "      <td>5 years</td>\n",
              "      <td>Short-Term</td>\n",
              "      <td>2008-08-28</td>\n",
              "      <td>64</td>\n",
              "      <td>53</td>\n",
              "      <td>Other musculoskeletal disorders</td>\n",
              "      <td>IncomeReplacement</td>\n",
              "      <td>120</td>\n",
              "      <td>120+</td>\n",
              "      <td>2008-05-20</td>\n",
              "      <td>2009-05-19</td>\n",
              "      <td>2008-08-01</td>\n",
              "      <td>2008-08-31</td>\n",
              "      <td>0</td>\n",
              "      <td>None</td>\n",
              "      <td>1</td>\n",
              "    </tr>\n",
              "    <tr>\n",
              "      <th>4</th>\n",
              "      <td>H 0840908</td>\n",
              "      <td>1</td>\n",
              "      <td>28</td>\n",
              "      <td>33</td>\n",
              "      <td>60</td>\n",
              "      <td>1981-11-03</td>\n",
              "      <td>2018-05-03</td>\n",
              "      <td>500.0</td>\n",
              "      <td>N</td>\n",
              "      <td>M</td>\n",
              "      <td>A</td>\n",
              "      <td>QC</td>\n",
              "      <td>0</td>\n",
              "      <td>2 years</td>\n",
              "      <td>Short-Term</td>\n",
              "      <td>2015-10-16</td>\n",
              "      <td>4</td>\n",
              "      <td>60</td>\n",
              "      <td>Other musculoskeletal disorders</td>\n",
              "      <td>IncomeReplacement</td>\n",
              "      <td>30</td>\n",
              "      <td>00-30</td>\n",
              "      <td>2013-11-03</td>\n",
              "      <td>2014-11-02</td>\n",
              "      <td>2013-12-17</td>\n",
              "      <td>2014-01-16</td>\n",
              "      <td>1</td>\n",
              "      <td>Other</td>\n",
              "      <td>1</td>\n",
              "    </tr>\n",
              "  </tbody>\n",
              "</table>\n",
              "</div>"
            ],
            "text/plain": [
              "  PolicyNumber  CoverageNumber  ...  terminationReason  train\n",
              "0    H 0826898               2  ...              Death      1\n",
              "1    H 0828055               1  ...               None      0\n",
              "2    H 0833653               1  ...              Other      1\n",
              "3    H 0834890               1  ...               None      1\n",
              "4    H 0840908               1  ...              Other      1\n",
              "\n",
              "[5 rows x 29 columns]"
            ]
          },
          "metadata": {
            "tags": []
          },
          "execution_count": 6
        }
      ]
    },
    {
      "cell_type": "code",
      "metadata": {
        "id": "5fxB-UTjK_7X",
        "colab_type": "code",
        "colab": {
          "base_uri": "https://localhost:8080/",
          "height": 68
        },
        "outputId": "ebc133f3-3d87-4507-b796-6c94b94fa69b"
      },
      "source": [
        "raw_dataset.benefitPeriod.unique()"
      ],
      "execution_count": 7,
      "outputs": [
        {
          "output_type": "execute_result",
          "data": {
            "text/plain": [
              "array(['2 years', 'To age 65', '5 years', 'Lifetime/To age 101',\n",
              "       '18 months', '10 years', '1 year', '3 years', '4 months',\n",
              "       'Not covered', '15 months'], dtype=object)"
            ]
          },
          "metadata": {
            "tags": []
          },
          "execution_count": 7
        }
      ]
    },
    {
      "cell_type": "code",
      "metadata": {
        "id": "z-WW1Ay-Mi5f",
        "colab_type": "code",
        "colab": {}
      },
      "source": [
        "def time_remaining(row):\n",
        "  remaining = np.nan\n",
        "  if row['benefitPeriod']=='2 years':\n",
        "    remaining = 24 - row['DisabilityDuration']\n",
        "  if row['benefitPeriod']=='To age 65':\n",
        "    remaining = 12*65 - row['disabilityAge'] - row['DisabilityDuration']\n",
        "  if row['benefitPeriod']=='Lifetime/To age 101':\n",
        "    remaining = 12*101 - row['disabilityAge'] - row['DisabilityDuration']\n",
        "  if row['benefitPeriod']=='5 years':\n",
        "    remaining = 60 - row['DisabilityDuration']\n",
        "  if row['benefitPeriod']=='18 months':\n",
        "    remaining = 18 - row['DisabilityDuration']\n",
        "  if row['benefitPeriod']=='10 years':\n",
        "    remaining = 120 - row['DisabilityDuration']\n",
        "  if row['benefitPeriod']=='1 year':\n",
        "    remaining = 12 - row['DisabilityDuration']\n",
        "  if row['benefitPeriod']=='3 years':\n",
        "    remaining = 36 - row['DisabilityDuration']\n",
        "  if row['benefitPeriod']=='4 months':\n",
        "    remaining = 4 - row['DisabilityDuration']\n",
        "  if row['benefitPeriod']=='Not covered':\n",
        "    remaining = 0\n",
        "  if row['benefitPeriod']=='15 months':\n",
        "    remaining = 15 - row['DisabilityDuration']\n",
        "  return remaining\n"
      ],
      "execution_count": 0,
      "outputs": []
    },
    {
      "cell_type": "code",
      "metadata": {
        "id": "L-_Ru0orLvmk",
        "colab_type": "code",
        "colab": {}
      },
      "source": [
        "raw_dataset[\"remaining_months\"] = raw_dataset.apply(time_remaining, axis=1)"
      ],
      "execution_count": 0,
      "outputs": []
    },
    {
      "cell_type": "code",
      "metadata": {
        "id": "vc7DnjvLRTb0",
        "colab_type": "code",
        "colab": {}
      },
      "source": [
        "#raw_dataset[raw_dataset.remaining_months<1].groupby(\"remaining_months\").count()"
      ],
      "execution_count": 0,
      "outputs": []
    },
    {
      "cell_type": "code",
      "metadata": {
        "id": "KHuEPTEtQGi2",
        "colab_type": "code",
        "colab": {
          "base_uri": "https://localhost:8080/",
          "height": 282
        },
        "outputId": "c2c2cfff-971c-4557-bff4-051d0b1ef07e"
      },
      "source": [
        "raw_dataset.remaining_months.hist()"
      ],
      "execution_count": 12,
      "outputs": [
        {
          "output_type": "execute_result",
          "data": {
            "text/plain": [
              "<matplotlib.axes._subplots.AxesSubplot at 0x7fab02711240>"
            ]
          },
          "metadata": {
            "tags": []
          },
          "execution_count": 12
        },
        {
          "output_type": "display_data",
          "data": {
            "image/png": "[encoded data removed]",
            "text/plain": [
              "<Figure size 432x288 with 1 Axes>"
            ]
          },
          "metadata": {
            "tags": []
          }
        }
      ]
    },
    {
      "cell_type": "code",
      "metadata": {
        "id": "rSgQZKHMkPOp",
        "colab_type": "code",
        "colab": {}
      },
      "source": [
        "#feature ideas\n",
        "# benefit period in yrs\n",
        "# elimination period in months?"
      ],
      "execution_count": 0,
      "outputs": []
    },
    {
      "cell_type": "code",
      "metadata": {
        "id": "nmEEFISBKmta",
        "colab_type": "code",
        "colab": {}
      },
      "source": [
        "to_drop = ['PolicyNumber', 'IssueDate', 'IssueAge','AttainedAge', 'MaturityDate', 'benefitExpiryDate', 'policyStartDate', 'policyEndDate',\n",
        "           'exposureStartDate', 'exposureEndDate','terminationReason']\n",
        "           \n",
        "raw_dataset.drop(columns=to_drop,inplace=True)"
      ],
      "execution_count": 0,
      "outputs": []
    },
    {
      "cell_type": "code",
      "metadata": {
        "id": "-kLrx3IQyEZ0",
        "colab_type": "code",
        "colab": {}
      },
      "source": [
        "raw_dataset['CurrentAge'] = raw_dataset['disabilityAge'] + raw_dataset['DisabilityDuration']"
      ],
      "execution_count": 0,
      "outputs": []
    },
    {
      "cell_type": "code",
      "metadata": {
        "id": "rg09yJbAGQrh",
        "colab_type": "code",
        "colab": {}
      },
      "source": [
        "categories = ['SmokerStatus', 'Gender', 'OccupationClass', 'CurrentProvince','COLAIndicator', 'benefitPeriod',\n",
        "              'benefitPeriod_grouped','DisabilityReason', 'productDesign', 'EliminationPeriod', \n",
        "              'EliminationPeriod_grouped']\n",
        "dataset = pd.get_dummies(raw_dataset, columns=categories, drop_first=True)    \n"
      ],
      "execution_count": 0,
      "outputs": []
    },
    {
      "cell_type": "code",
      "metadata": {
        "id": "6oyuydK9OaAS",
        "colab_type": "code",
        "colab": {}
      },
      "source": [
        "train_data = dataset[dataset.train==1]\n",
        "pred_data = dataset[dataset.train==0]"
      ],
      "execution_count": 0,
      "outputs": []
    },
    {
      "cell_type": "code",
      "metadata": {
        "id": "y210RugnWlVt",
        "colab_type": "code",
        "colab": {
          "base_uri": "https://localhost:8080/",
          "height": 102
        },
        "outputId": "0011bc3f-e784-4da1-b598-d9f179a52bf2"
      },
      "source": [
        "train_data.drop(columns=['train'], inplace=True)"
      ],
      "execution_count": 23,
      "outputs": [
        {
          "output_type": "stream",
          "text": [
            "/usr/local/lib/python3.6/dist-packages/pandas/core/frame.py:4117: SettingWithCopyWarning: \n",
            "A value is trying to be set on a copy of a slice from a DataFrame\n",
            "\n",
            "See the caveats in the documentation: http://pandas.pydata.org/pandas-docs/stable/user_guide/indexing.html#returning-a-view-versus-a-copy\n",
            "  errors=errors,\n"
          ],
          "name": "stderr"
        }
      ]
    },
    {
      "cell_type": "code",
      "metadata": {
        "id": "sE65RvOdWLB6",
        "colab_type": "code",
        "outputId": "68367f43-5ee5-451c-e195-52b5d4a589ac",
        "colab": {
          "base_uri": "https://localhost:8080/",
          "height": 34
        }
      },
      "source": [
        "dataset.shape # (4539, 127)\n",
        "train_data.shape #(3348, 127)"
      ],
      "execution_count": 24,
      "outputs": [
        {
          "output_type": "execute_result",
          "data": {
            "text/plain": [
              "(3348, 111)"
            ]
          },
          "metadata": {
            "tags": []
          },
          "execution_count": 24
        }
      ]
    },
    {
      "cell_type": "code",
      "metadata": {
        "id": "h4zuTn4WLR_6",
        "colab_type": "code",
        "colab": {}
      },
      "source": [
        "# Creating the time and event columns\n",
        "time_column = 'DisabilityDuration'\n",
        "event_column = 'TerminationEvent'\n",
        "\n",
        "# Extracting the features\n",
        "features = np.setdiff1d(train_data.columns, [time_column, event_column] ).tolist()"
      ],
      "execution_count": 0,
      "outputs": []
    },
    {
      "cell_type": "code",
      "metadata": {
        "id": "S1cBbbwyMxeT",
        "colab_type": "code",
        "outputId": "928ebdca-bbbe-488f-8d61-ade71cd472eb",
        "colab": {
          "base_uri": "https://localhost:8080/",
          "height": 85
        }
      },
      "source": [
        "%%time\n",
        "# Checking for null values\n",
        "N_null = sum(train_data[features].isnull().sum())\n",
        "print(\"The train_dataset contains {} null values\".format(N_null)) #0 null values\n",
        "\n",
        "# Removing duplicates if there exist\n",
        "N_dupli = sum(train_data.duplicated(keep='first'))\n",
        "train_data = train_data.drop_duplicates(keep='first').reset_index(drop=True)\n",
        "print(\"The train_dataset contains {} duplicates\".format(N_dupli))\n",
        "\n",
        "# Number of samples in the dataset\n",
        "N = train_data.shape[0]"
      ],
      "execution_count": 26,
      "outputs": [
        {
          "output_type": "stream",
          "text": [
            "The train_dataset contains 0 null values\n",
            "The train_dataset contains 1 duplicates\n",
            "CPU times: user 57.5 ms, sys: 3.84 ms, total: 61.4 ms\n",
            "Wall time: 61.1 ms\n"
          ],
          "name": "stdout"
        }
      ]
    },
    {
      "cell_type": "code",
      "metadata": {
        "id": "QRcf1w_SXbm0",
        "colab_type": "code",
        "outputId": "4d70c66b-0049-4db3-a294-297ad701a756",
        "colab": {
          "base_uri": "https://localhost:8080/",
          "height": 34
        }
      },
      "source": [
        "train_data.shape"
      ],
      "execution_count": 27,
      "outputs": [
        {
          "output_type": "execute_result",
          "data": {
            "text/plain": [
              "(3347, 111)"
            ]
          },
          "metadata": {
            "tags": []
          },
          "execution_count": 27
        }
      ]
    },
    {
      "cell_type": "code",
      "metadata": {
        "id": "MwcXsUZA2egc",
        "colab_type": "code",
        "colab": {}
      },
      "source": [
        "X_train, X_test, T_train, T_test, E_train, E_test = train_test_split(train_data[features],train_data[time_column], train_data[event_column],test_size = 0.25, random_state=12345, stratify=train_data[event_column])"
      ],
      "execution_count": 0,
      "outputs": []
    },
    {
      "cell_type": "code",
      "metadata": {
        "id": "YZOV9Bga38n1",
        "colab_type": "code",
        "outputId": "55999ed7-df24-4125-dac5-f7100c787f2f",
        "colab": {
          "base_uri": "https://localhost:8080/",
          "height": 34
        }
      },
      "source": [
        "X_train.shape"
      ],
      "execution_count": 29,
      "outputs": [
        {
          "output_type": "execute_result",
          "data": {
            "text/plain": [
              "(2510, 109)"
            ]
          },
          "metadata": {
            "tags": []
          },
          "execution_count": 29
        }
      ]
    },
    {
      "cell_type": "code",
      "metadata": {
        "id": "IqQuNbdjNRnc",
        "colab_type": "code",
        "colab": {
          "base_uri": "https://localhost:8080/",
          "height": 34
        },
        "outputId": "3589d5ea-4297-48cc-8503-2db9ce47af07"
      },
      "source": [
        "k = 23\n",
        "predicted = nonlinear_coxph.predict_survival(X_test.values[k, :], t=T_test.iloc[k]).flatten()\n",
        "print(predicted)\n",
        "print(E_test.iloc[k])"
      ],
      "execution_count": 41,
      "outputs": [
        {
          "output_type": "stream",
          "text": [
            "[0.38107995]\n"
          ],
          "name": "stdout"
        }
      ]
    },
    {
      "cell_type": "code",
      "metadata": {
        "id": "E_yuRy1CnXxN",
        "colab_type": "code",
        "outputId": "e5854b16-aa52-4b53-b8be-66d25684b64d",
        "colab": {
          "base_uri": "https://localhost:8080/",
          "height": 51
        }
      },
      "source": [
        "%%time\n",
        "##6\n",
        "from pysurvival.models.survival_forest import ConditionalSurvivalForestModel\n",
        "\n",
        "# Fitting the model\n",
        "csf = ConditionalSurvivalForestModel(num_trees=200)\n",
        "csf.fit(X_train, T_train, E_train, max_features='sqrt',\n",
        "        max_depth=5, min_node_size=20, alpha=0.05, minprop=0.1) #0.74"
      ],
      "execution_count": 36,
      "outputs": [
        {
          "output_type": "stream",
          "text": [
            "CPU times: user 5min 16s, sys: 285 ms, total: 5min 17s\n",
            "Wall time: 2min 40s\n"
          ],
          "name": "stdout"
        }
      ]
    },
    {
      "cell_type": "code",
      "metadata": {
        "id": "2XEyMsLMnfm-",
        "colab_type": "code",
        "outputId": "cc64c3b5-2cbf-4816-a719-db23c89a1a07",
        "colab": {
          "base_uri": "https://localhost:8080/",
          "height": 669
        }
      },
      "source": [
        "# Computing variables importance\n",
        "csf.variable_importance_table.head(20)"
      ],
      "execution_count": 44,
      "outputs": [
        {
          "output_type": "execute_result",
          "data": {
            "text/html": [
              "<div>\n",
              "<style scoped>\n",
              "    .dataframe tbody tr th:only-of-type {\n",
              "        vertical-align: middle;\n",
              "    }\n",
              "\n",
              "    .dataframe tbody tr th {\n",
              "        vertical-align: top;\n",
              "    }\n",
              "\n",
              "    .dataframe thead th {\n",
              "        text-align: right;\n",
              "    }\n",
              "</style>\n",
              "<table border=\"1\" class=\"dataframe\">\n",
              "  <thead>\n",
              "    <tr style=\"text-align: right;\">\n",
              "      <th></th>\n",
              "      <th>feature</th>\n",
              "      <th>importance</th>\n",
              "      <th>pct_importance</th>\n",
              "    </tr>\n",
              "  </thead>\n",
              "  <tbody>\n",
              "    <tr>\n",
              "      <th>0</th>\n",
              "      <td>CurrentAge</td>\n",
              "      <td>11.063080</td>\n",
              "      <td>0.131861</td>\n",
              "    </tr>\n",
              "    <tr>\n",
              "      <th>1</th>\n",
              "      <td>remaining_months</td>\n",
              "      <td>8.963027</td>\n",
              "      <td>0.106831</td>\n",
              "    </tr>\n",
              "    <tr>\n",
              "      <th>2</th>\n",
              "      <td>EliminationPeriod_grouped_120+</td>\n",
              "      <td>5.125826</td>\n",
              "      <td>0.061095</td>\n",
              "    </tr>\n",
              "    <tr>\n",
              "      <th>3</th>\n",
              "      <td>EliminationPeriod_120</td>\n",
              "      <td>4.669643</td>\n",
              "      <td>0.055658</td>\n",
              "    </tr>\n",
              "    <tr>\n",
              "      <th>4</th>\n",
              "      <td>PolicyYear</td>\n",
              "      <td>4.328423</td>\n",
              "      <td>0.051591</td>\n",
              "    </tr>\n",
              "    <tr>\n",
              "      <th>5</th>\n",
              "      <td>productDesign_IncomeReplacement</td>\n",
              "      <td>3.958964</td>\n",
              "      <td>0.047187</td>\n",
              "    </tr>\n",
              "    <tr>\n",
              "      <th>6</th>\n",
              "      <td>productDesign_Venture_Total</td>\n",
              "      <td>3.549037</td>\n",
              "      <td>0.042301</td>\n",
              "    </tr>\n",
              "    <tr>\n",
              "      <th>7</th>\n",
              "      <td>FaceAmount</td>\n",
              "      <td>3.542233</td>\n",
              "      <td>0.042220</td>\n",
              "    </tr>\n",
              "    <tr>\n",
              "      <th>8</th>\n",
              "      <td>benefitPeriod_grouped_Short-Term</td>\n",
              "      <td>3.221233</td>\n",
              "      <td>0.038394</td>\n",
              "    </tr>\n",
              "    <tr>\n",
              "      <th>9</th>\n",
              "      <td>DisabilityReason_Other cancer</td>\n",
              "      <td>3.076306</td>\n",
              "      <td>0.036667</td>\n",
              "    </tr>\n",
              "    <tr>\n",
              "      <th>10</th>\n",
              "      <td>CurrentProvince_QC</td>\n",
              "      <td>3.072856</td>\n",
              "      <td>0.036625</td>\n",
              "    </tr>\n",
              "    <tr>\n",
              "      <th>11</th>\n",
              "      <td>benefitPeriod_grouped_ToAge65</td>\n",
              "      <td>3.001926</td>\n",
              "      <td>0.035780</td>\n",
              "    </tr>\n",
              "    <tr>\n",
              "      <th>12</th>\n",
              "      <td>benefitPeriod_2 years</td>\n",
              "      <td>2.737113</td>\n",
              "      <td>0.032624</td>\n",
              "    </tr>\n",
              "    <tr>\n",
              "      <th>13</th>\n",
              "      <td>productDesign_Proguard</td>\n",
              "      <td>2.573351</td>\n",
              "      <td>0.030672</td>\n",
              "    </tr>\n",
              "    <tr>\n",
              "      <th>14</th>\n",
              "      <td>COLAIndicator_1</td>\n",
              "      <td>2.414018</td>\n",
              "      <td>0.028773</td>\n",
              "    </tr>\n",
              "    <tr>\n",
              "      <th>15</th>\n",
              "      <td>DisabilityReason_Major depression</td>\n",
              "      <td>2.168486</td>\n",
              "      <td>0.025846</td>\n",
              "    </tr>\n",
              "    <tr>\n",
              "      <th>16</th>\n",
              "      <td>OccupationClass_3A</td>\n",
              "      <td>2.002503</td>\n",
              "      <td>0.023868</td>\n",
              "    </tr>\n",
              "    <tr>\n",
              "      <th>17</th>\n",
              "      <td>CurrentProvince_BC</td>\n",
              "      <td>1.930276</td>\n",
              "      <td>0.023007</td>\n",
              "    </tr>\n",
              "    <tr>\n",
              "      <th>18</th>\n",
              "      <td>OccupationClass_4A</td>\n",
              "      <td>1.711342</td>\n",
              "      <td>0.020398</td>\n",
              "    </tr>\n",
              "    <tr>\n",
              "      <th>19</th>\n",
              "      <td>benefitPeriod_To age 65</td>\n",
              "      <td>1.554132</td>\n",
              "      <td>0.018524</td>\n",
              "    </tr>\n",
              "  </tbody>\n",
              "</table>\n",
              "</div>"
            ],
            "text/plain": [
              "                              feature  importance  pct_importance\n",
              "0                          CurrentAge   11.063080        0.131861\n",
              "1                    remaining_months    8.963027        0.106831\n",
              "2      EliminationPeriod_grouped_120+    5.125826        0.061095\n",
              "3               EliminationPeriod_120    4.669643        0.055658\n",
              "4                          PolicyYear    4.328423        0.051591\n",
              "5     productDesign_IncomeReplacement    3.958964        0.047187\n",
              "6         productDesign_Venture_Total    3.549037        0.042301\n",
              "7                          FaceAmount    3.542233        0.042220\n",
              "8    benefitPeriod_grouped_Short-Term    3.221233        0.038394\n",
              "9       DisabilityReason_Other cancer    3.076306        0.036667\n",
              "10                 CurrentProvince_QC    3.072856        0.036625\n",
              "11      benefitPeriod_grouped_ToAge65    3.001926        0.035780\n",
              "12              benefitPeriod_2 years    2.737113        0.032624\n",
              "13             productDesign_Proguard    2.573351        0.030672\n",
              "14                    COLAIndicator_1    2.414018        0.028773\n",
              "15  DisabilityReason_Major depression    2.168486        0.025846\n",
              "16                 OccupationClass_3A    2.002503        0.023868\n",
              "17                 CurrentProvince_BC    1.930276        0.023007\n",
              "18                 OccupationClass_4A    1.711342        0.020398\n",
              "19            benefitPeriod_To age 65    1.554132        0.018524"
            ]
          },
          "metadata": {
            "tags": []
          },
          "execution_count": 44
        }
      ]
    },
    {
      "cell_type": "code",
      "metadata": {
        "id": "yBVF5QTqocTo",
        "colab_type": "code",
        "outputId": "8bd46d48-3d22-413d-e44a-056d9dfe9ce1",
        "colab": {
          "base_uri": "https://localhost:8080/",
          "height": 34
        }
      },
      "source": [
        "#cross validation\n",
        "from pysurvival.utils.metrics import concordance_index\n",
        "c_index = concordance_index(csf, X_test, T_test, E_test)\n",
        "print('C-index: {:.2f}'.format(c_index)) #0.75"
      ],
      "execution_count": 45,
      "outputs": [
        {
          "output_type": "stream",
          "text": [
            "C-index: 0.75\n"
          ],
          "name": "stdout"
        }
      ]
    },
    {
      "cell_type": "code",
      "metadata": {
        "id": "19KkQnS0Z0-u",
        "colab_type": "code",
        "colab": {
          "base_uri": "https://localhost:8080/",
          "height": 439
        },
        "outputId": "04ce207d-e501-4601-dbda-da71a6e83fd1"
      },
      "source": [
        "ibs = integrated_brier_score(csf, X_test, T_test, E_test, t_max=600,\n",
        "            figure_size=(20, 6.5) )\n",
        "print('IBS: {:.2f}'.format(ibs))"
      ],
      "execution_count": 46,
      "outputs": [
        {
          "output_type": "display_data",
          "data": {
            "image/png": "[encoded data removed]",
            "text/plain": [
              "<Figure size 1440x468 with 1 Axes>"
            ]
          },
          "metadata": {
            "tags": []
          }
        },
        {
          "output_type": "stream",
          "text": [
            "IBS: 0.09\n"
          ],
          "name": "stdout"
        }
      ]
    },
    {
      "cell_type": "code",
      "metadata": {
        "id": "5EqjR58NaCcB",
        "colab_type": "code",
        "colab": {
          "base_uri": "https://localhost:8080/",
          "height": 444
        },
        "outputId": "806ddee2-74e9-4bdd-eff6-ed74ce9cf7da"
      },
      "source": [
        "from pysurvival.utils.display import compare_to_actual\n",
        "results = compare_to_actual(csf, X_test, T_test, E_test,\n",
        "                            is_at_risk = True,  figure_size=(16, 6),\n",
        "                            metrics = ['rmse', 'mean', 'median'])"
      ],
      "execution_count": 47,
      "outputs": [
        {
          "output_type": "display_data",
          "data": {
            "image/png": "[encoded data removed]",
            "text/plain": [
              "<Figure size 1152x432 with 1 Axes>"
            ]
          },
          "metadata": {
            "tags": []
          }
        }
      ]
    }
  ]
}