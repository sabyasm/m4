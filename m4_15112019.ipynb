{
  "nbformat": 4,
  "nbformat_minor": 0,
  "metadata": {
    "colab": {
      "name": "m4_13112019.ipynb",
      "provenance": [],
      "collapsed_sections": [],
      "include_colab_link": true
    },
    "kernelspec": {
      "name": "python3",
      "display_name": "Python 3"
    },
    "accelerator": "GPU"
  },
  "cells": [
    {
      "cell_type": "markdown",
      "metadata": {
        "id": "view-in-github",
        "colab_type": "text"
      },
      "source": [
        "<a href=\"https://colab.research.google.com/github/sabyasm/m4/blob/master/m4_15112019.ipynb\" target=\"_parent\"><img src=\"https://colab.research.google.com/assets/colab-badge.svg\" alt=\"Open In Colab\"/></a>"
      ]
    },
    {
      "cell_type": "code",
      "metadata": {
        "id": "QhxRNQbhGGih",
        "colab_type": "code",
        "colab": {}
      },
      "source": [
        "!pip install pysurvival &> /dev/null"
      ],
      "execution_count": 0,
      "outputs": []
    },
    {
      "cell_type": "code",
      "metadata": {
        "id": "TLbTNshpGiJF",
        "colab_type": "code",
        "colab": {}
      },
      "source": [
        "!curl -Lo m4.pkl https://manu00.s3-us-west-2.amazonaws.com/m4.pkl &> /dev/null"
      ],
      "execution_count": 0,
      "outputs": []
    },
    {
      "cell_type": "code",
      "metadata": {
        "id": "JjcLdfwPG4YE",
        "colab_type": "code",
        "outputId": "e2ce9d35-31cc-42a7-b4c9-2550608a59d1",
        "colab": {
          "base_uri": "https://localhost:8080/",
          "height": 34
        }
      },
      "source": [
        "#### 1 - Importing packages\n",
        "import numpy as np\n",
        "import pandas as pd\n",
        "from matplotlib import pyplot as plt\n",
        "from sklearn.model_selection import train_test_split\n",
        "from pysurvival.models.simulations import SimulationModel\n",
        "from pysurvival.models.parametric import GompertzModel\n",
        "from pysurvival.utils.metrics import concordance_index\n",
        "from pysurvival.utils.display import integrated_brier_score\n",
        "# Building training and testing sets\n",
        "from sklearn.model_selection import train_test_split\n",
        "%pylab inline"
      ],
      "execution_count": 5,
      "outputs": [
        {
          "output_type": "stream",
          "text": [
            "Populating the interactive namespace from numpy and matplotlib\n"
          ],
          "name": "stdout"
        }
      ]
    },
    {
      "cell_type": "code",
      "metadata": {
        "id": "EbKlu4RpHSnT",
        "colab_type": "code",
        "colab": {}
      },
      "source": [
        "# Reading the dataset\n",
        "raw_dataset = pd.read_pickle(\"m4.pkl\")"
      ],
      "execution_count": 0,
      "outputs": []
    },
    {
      "cell_type": "code",
      "metadata": {
        "id": "wRplTYGaHcWT",
        "colab_type": "code",
        "outputId": "82342380-f0a7-43b5-d641-3dea504502e7",
        "colab": {
          "base_uri": "https://localhost:8080/",
          "height": 187
        }
      },
      "source": [
        "raw_dataset.columns"
      ],
      "execution_count": 7,
      "outputs": [
        {
          "output_type": "execute_result",
          "data": {
            "text/plain": [
              "Index(['PolicyNumber', 'CoverageNumber', 'IssueAge', 'PolicyYear',\n",
              "       'AttainedAge', 'IssueDate', 'MaturityDate', 'FaceAmount',\n",
              "       'SmokerStatus', 'Gender', 'OccupationClass', 'CurrentProvince',\n",
              "       'COLAIndicator', 'benefitPeriod', 'benefitPeriod_grouped',\n",
              "       'benefitExpiryDate', 'DisabilityDuration', 'disabilityAge',\n",
              "       'DisabilityReason', 'productDesign', 'EliminationPeriod',\n",
              "       'EliminationPeriod_grouped', 'policyStartDate', 'policyEndDate',\n",
              "       'exposureStartDate', 'exposureEndDate', 'TerminationEvent',\n",
              "       'terminationReason', 'train'],\n",
              "      dtype='object')"
            ]
          },
          "metadata": {
            "tags": []
          },
          "execution_count": 7
        }
      ]
    },
    {
      "cell_type": "code",
      "metadata": {
        "id": "luArgfJkHvtF",
        "colab_type": "code",
        "outputId": "cecec05b-4223-42f1-8612-dc0244c48e52",
        "colab": {
          "base_uri": "https://localhost:8080/",
          "height": 326
        }
      },
      "source": [
        "raw_dataset.head()"
      ],
      "execution_count": 8,
      "outputs": [
        {
          "output_type": "execute_result",
          "data": {
            "text/html": [
              "<div>\n",
              "<style scoped>\n",
              "    .dataframe tbody tr th:only-of-type {\n",
              "        vertical-align: middle;\n",
              "    }\n",
              "\n",
              "    .dataframe tbody tr th {\n",
              "        vertical-align: top;\n",
              "    }\n",
              "\n",
              "    .dataframe thead th {\n",
              "        text-align: right;\n",
              "    }\n",
              "</style>\n",
              "<table border=\"1\" class=\"dataframe\">\n",
              "  <thead>\n",
              "    <tr style=\"text-align: right;\">\n",
              "      <th></th>\n",
              "      <th>PolicyNumber</th>\n",
              "      <th>CoverageNumber</th>\n",
              "      <th>IssueAge</th>\n",
              "      <th>PolicyYear</th>\n",
              "      <th>AttainedAge</th>\n",
              "      <th>IssueDate</th>\n",
              "      <th>MaturityDate</th>\n",
              "      <th>FaceAmount</th>\n",
              "      <th>SmokerStatus</th>\n",
              "      <th>Gender</th>\n",
              "      <th>OccupationClass</th>\n",
              "      <th>CurrentProvince</th>\n",
              "      <th>COLAIndicator</th>\n",
              "      <th>benefitPeriod</th>\n",
              "      <th>benefitPeriod_grouped</th>\n",
              "      <th>benefitExpiryDate</th>\n",
              "      <th>DisabilityDuration</th>\n",
              "      <th>disabilityAge</th>\n",
              "      <th>DisabilityReason</th>\n",
              "      <th>productDesign</th>\n",
              "      <th>EliminationPeriod</th>\n",
              "      <th>EliminationPeriod_grouped</th>\n",
              "      <th>policyStartDate</th>\n",
              "      <th>policyEndDate</th>\n",
              "      <th>exposureStartDate</th>\n",
              "      <th>exposureEndDate</th>\n",
              "      <th>TerminationEvent</th>\n",
              "      <th>terminationReason</th>\n",
              "      <th>train</th>\n",
              "    </tr>\n",
              "  </thead>\n",
              "  <tbody>\n",
              "    <tr>\n",
              "      <th>0</th>\n",
              "      <td>H 0826898</td>\n",
              "      <td>2</td>\n",
              "      <td>23</td>\n",
              "      <td>21</td>\n",
              "      <td>43</td>\n",
              "      <td>1990-05-08</td>\n",
              "      <td>2010-05-31</td>\n",
              "      <td>100.0</td>\n",
              "      <td>N</td>\n",
              "      <td>M</td>\n",
              "      <td>2A</td>\n",
              "      <td>NS</td>\n",
              "      <td>0</td>\n",
              "      <td>2 years</td>\n",
              "      <td>Short-Term</td>\n",
              "      <td>2012-04-14</td>\n",
              "      <td>6</td>\n",
              "      <td>56</td>\n",
              "      <td>Other cancer</td>\n",
              "      <td>IncomeReplacement</td>\n",
              "      <td>120</td>\n",
              "      <td>120+</td>\n",
              "      <td>2010-05-08</td>\n",
              "      <td>2011-05-07</td>\n",
              "      <td>2010-05-16</td>\n",
              "      <td>2010-06-15</td>\n",
              "      <td>1</td>\n",
              "      <td>Death</td>\n",
              "      <td>1</td>\n",
              "    </tr>\n",
              "    <tr>\n",
              "      <th>1</th>\n",
              "      <td>H 0828055</td>\n",
              "      <td>1</td>\n",
              "      <td>21</td>\n",
              "      <td>41</td>\n",
              "      <td>61</td>\n",
              "      <td>1976-10-15</td>\n",
              "      <td>2021-01-15</td>\n",
              "      <td>200.0</td>\n",
              "      <td>N</td>\n",
              "      <td>M</td>\n",
              "      <td>A</td>\n",
              "      <td>QC</td>\n",
              "      <td>0</td>\n",
              "      <td>2 years</td>\n",
              "      <td>Short-Term</td>\n",
              "      <td>2018-08-23</td>\n",
              "      <td>5</td>\n",
              "      <td>60</td>\n",
              "      <td>Other accident/poisonings</td>\n",
              "      <td>IncomeReplacement</td>\n",
              "      <td>7</td>\n",
              "      <td>00-30</td>\n",
              "      <td>2016-10-15</td>\n",
              "      <td>2017-10-14</td>\n",
              "      <td>2016-11-25</td>\n",
              "      <td>2016-12-24</td>\n",
              "      <td>0</td>\n",
              "      <td>None</td>\n",
              "      <td>0</td>\n",
              "    </tr>\n",
              "    <tr>\n",
              "      <th>2</th>\n",
              "      <td>H 0833653</td>\n",
              "      <td>1</td>\n",
              "      <td>35</td>\n",
              "      <td>30</td>\n",
              "      <td>64</td>\n",
              "      <td>1978-12-01</td>\n",
              "      <td>2009-04-01</td>\n",
              "      <td>200.0</td>\n",
              "      <td>N</td>\n",
              "      <td>M</td>\n",
              "      <td>3A</td>\n",
              "      <td>NS</td>\n",
              "      <td>0</td>\n",
              "      <td>To age 65</td>\n",
              "      <td>ToAge65</td>\n",
              "      <td>2009-03-29</td>\n",
              "      <td>5</td>\n",
              "      <td>63</td>\n",
              "      <td>Other genitourinary/reproductive disorders</td>\n",
              "      <td>IncomeReplacement</td>\n",
              "      <td>90</td>\n",
              "      <td>90</td>\n",
              "      <td>2007-12-01</td>\n",
              "      <td>2008-11-30</td>\n",
              "      <td>2008-05-26</td>\n",
              "      <td>2008-06-25</td>\n",
              "      <td>1</td>\n",
              "      <td>Other</td>\n",
              "      <td>1</td>\n",
              "    </tr>\n",
              "    <tr>\n",
              "      <th>3</th>\n",
              "      <td>H 0834890</td>\n",
              "      <td>1</td>\n",
              "      <td>30</td>\n",
              "      <td>30</td>\n",
              "      <td>59</td>\n",
              "      <td>1979-05-20</td>\n",
              "      <td>2014-08-20</td>\n",
              "      <td>725.0</td>\n",
              "      <td>N</td>\n",
              "      <td>M</td>\n",
              "      <td>2A</td>\n",
              "      <td>AB</td>\n",
              "      <td>0</td>\n",
              "      <td>5 years</td>\n",
              "      <td>Short-Term</td>\n",
              "      <td>2008-08-28</td>\n",
              "      <td>64</td>\n",
              "      <td>53</td>\n",
              "      <td>Other musculoskeletal disorders</td>\n",
              "      <td>IncomeReplacement</td>\n",
              "      <td>120</td>\n",
              "      <td>120+</td>\n",
              "      <td>2008-05-20</td>\n",
              "      <td>2009-05-19</td>\n",
              "      <td>2008-08-01</td>\n",
              "      <td>2008-08-31</td>\n",
              "      <td>0</td>\n",
              "      <td>None</td>\n",
              "      <td>1</td>\n",
              "    </tr>\n",
              "    <tr>\n",
              "      <th>4</th>\n",
              "      <td>H 0840908</td>\n",
              "      <td>1</td>\n",
              "      <td>28</td>\n",
              "      <td>33</td>\n",
              "      <td>60</td>\n",
              "      <td>1981-11-03</td>\n",
              "      <td>2018-05-03</td>\n",
              "      <td>500.0</td>\n",
              "      <td>N</td>\n",
              "      <td>M</td>\n",
              "      <td>A</td>\n",
              "      <td>QC</td>\n",
              "      <td>0</td>\n",
              "      <td>2 years</td>\n",
              "      <td>Short-Term</td>\n",
              "      <td>2015-10-16</td>\n",
              "      <td>4</td>\n",
              "      <td>60</td>\n",
              "      <td>Other musculoskeletal disorders</td>\n",
              "      <td>IncomeReplacement</td>\n",
              "      <td>30</td>\n",
              "      <td>00-30</td>\n",
              "      <td>2013-11-03</td>\n",
              "      <td>2014-11-02</td>\n",
              "      <td>2013-12-17</td>\n",
              "      <td>2014-01-16</td>\n",
              "      <td>1</td>\n",
              "      <td>Other</td>\n",
              "      <td>1</td>\n",
              "    </tr>\n",
              "  </tbody>\n",
              "</table>\n",
              "</div>"
            ],
            "text/plain": [
              "  PolicyNumber  CoverageNumber  ...  terminationReason  train\n",
              "0    H 0826898               2  ...              Death      1\n",
              "1    H 0828055               1  ...               None      0\n",
              "2    H 0833653               1  ...              Other      1\n",
              "3    H 0834890               1  ...               None      1\n",
              "4    H 0840908               1  ...              Other      1\n",
              "\n",
              "[5 rows x 29 columns]"
            ]
          },
          "metadata": {
            "tags": []
          },
          "execution_count": 8
        }
      ]
    },
    {
      "cell_type": "code",
      "metadata": {
        "id": "rSgQZKHMkPOp",
        "colab_type": "code",
        "colab": {}
      },
      "source": [
        "#feature ideas\n",
        "# benefit period in yrs\n",
        "# elimination period in months?"
      ],
      "execution_count": 0,
      "outputs": []
    },
    {
      "cell_type": "code",
      "metadata": {
        "id": "nmEEFISBKmta",
        "colab_type": "code",
        "colab": {}
      },
      "source": [
        "to_drop = ['PolicyNumber', 'IssueDate', 'IssueAge','AttainedAge', 'MaturityDate', 'benefitExpiryDate', 'policyStartDate', 'policyEndDate',\n",
        "           'exposureStartDate', 'exposureEndDate','terminationReason']\n",
        "           \n",
        "raw_dataset.drop(columns=to_drop,inplace=True)"
      ],
      "execution_count": 0,
      "outputs": []
    },
    {
      "cell_type": "code",
      "metadata": {
        "id": "-kLrx3IQyEZ0",
        "colab_type": "code",
        "colab": {}
      },
      "source": [
        "raw_dataset['CurrentAge'] = raw_dataset['disabilityAge'] + raw_dataset['DisabilityDuration']"
      ],
      "execution_count": 0,
      "outputs": []
    },
    {
      "cell_type": "code",
      "metadata": {
        "id": "rg09yJbAGQrh",
        "colab_type": "code",
        "colab": {}
      },
      "source": [
        "categories = ['SmokerStatus', 'Gender', 'OccupationClass', 'CurrentProvince','COLAIndicator', 'benefitPeriod',\n",
        "              'benefitPeriod_grouped','DisabilityReason', 'productDesign', 'EliminationPeriod', \n",
        "              'EliminationPeriod_grouped']\n",
        "dataset = pd.get_dummies(raw_dataset, columns=categories, drop_first=True)    \n"
      ],
      "execution_count": 0,
      "outputs": []
    },
    {
      "cell_type": "code",
      "metadata": {
        "id": "6oyuydK9OaAS",
        "colab_type": "code",
        "colab": {}
      },
      "source": [
        "train_data = dataset[dataset.train==1]\n",
        "pred_data = dataset[dataset.train==0]"
      ],
      "execution_count": 0,
      "outputs": []
    },
    {
      "cell_type": "code",
      "metadata": {
        "id": "y210RugnWlVt",
        "colab_type": "code",
        "colab": {}
      },
      "source": [
        "train_data.drop(columns=['train'], inplace=True)"
      ],
      "execution_count": 0,
      "outputs": []
    },
    {
      "cell_type": "code",
      "metadata": {
        "id": "sE65RvOdWLB6",
        "colab_type": "code",
        "outputId": "a4822380-f08f-4d0c-accf-0d535ed5f828",
        "colab": {
          "base_uri": "https://localhost:8080/",
          "height": 34
        }
      },
      "source": [
        "dataset.shape # (4539, 127)\n",
        "train_data.shape #(3348, 127)"
      ],
      "execution_count": 0,
      "outputs": [
        {
          "output_type": "execute_result",
          "data": {
            "text/plain": [
              "(3348, 110)"
            ]
          },
          "metadata": {
            "tags": []
          },
          "execution_count": 13
        }
      ]
    },
    {
      "cell_type": "code",
      "metadata": {
        "id": "h4zuTn4WLR_6",
        "colab_type": "code",
        "colab": {}
      },
      "source": [
        "# Creating the time and event columns\n",
        "time_column = 'DisabilityDuration'\n",
        "event_column = 'TerminationEvent'\n",
        "\n",
        "# Extracting the features\n",
        "features = np.setdiff1d(train_data.columns, [time_column, event_column] ).tolist()"
      ],
      "execution_count": 0,
      "outputs": []
    },
    {
      "cell_type": "code",
      "metadata": {
        "id": "S1cBbbwyMxeT",
        "colab_type": "code",
        "outputId": "56bde73d-4076-4c0d-8bd0-c506fb89ced6",
        "colab": {
          "base_uri": "https://localhost:8080/",
          "height": 85
        }
      },
      "source": [
        "%%time\n",
        "# Checking for null values\n",
        "N_null = sum(train_data[features].isnull().sum())\n",
        "print(\"The train_dataset contains {} null values\".format(N_null)) #0 null values\n",
        "\n",
        "# Removing duplicates if there exist\n",
        "N_dupli = sum(train_data.duplicated(keep='first'))\n",
        "train_data = train_data.drop_duplicates(keep='first').reset_index(drop=True)\n",
        "print(\"The train_dataset contains {} duplicates\".format(N_dupli))\n",
        "\n",
        "# Number of samples in the dataset\n",
        "N = train_data.shape[0]"
      ],
      "execution_count": 15,
      "outputs": [
        {
          "output_type": "stream",
          "text": [
            "The train_dataset contains 0 null values\n",
            "The train_dataset contains 1 duplicates\n",
            "CPU times: user 71.5 ms, sys: 1.11 ms, total: 72.6 ms\n",
            "Wall time: 81.9 ms\n"
          ],
          "name": "stdout"
        }
      ]
    },
    {
      "cell_type": "code",
      "metadata": {
        "id": "QRcf1w_SXbm0",
        "colab_type": "code",
        "outputId": "7617a097-5ad2-46e8-ff5c-0448e23cf517",
        "colab": {
          "base_uri": "https://localhost:8080/",
          "height": 34
        }
      },
      "source": [
        "train_data.shape"
      ],
      "execution_count": 16,
      "outputs": [
        {
          "output_type": "execute_result",
          "data": {
            "text/plain": [
              "(3347, 111)"
            ]
          },
          "metadata": {
            "tags": []
          },
          "execution_count": 16
        }
      ]
    },
    {
      "cell_type": "code",
      "metadata": {
        "id": "MwcXsUZA2egc",
        "colab_type": "code",
        "colab": {}
      },
      "source": [
        "X_train, X_test, T_train, T_test, E_train, E_test = train_test_split(train_data[features],train_data[time_column], train_data[event_column],test_size = 0.3, random_state=12345, stratify=train_data[event_column])"
      ],
      "execution_count": 0,
      "outputs": []
    },
    {
      "cell_type": "code",
      "metadata": {
        "id": "YZOV9Bga38n1",
        "colab_type": "code",
        "outputId": "e2c940e7-2d70-4cc9-f320-641c8e43e09c",
        "colab": {
          "base_uri": "https://localhost:8080/",
          "height": 34
        }
      },
      "source": [
        "X_train.shape"
      ],
      "execution_count": 19,
      "outputs": [
        {
          "output_type": "execute_result",
          "data": {
            "text/plain": [
              "(2342, 109)"
            ]
          },
          "metadata": {
            "tags": []
          },
          "execution_count": 19
        }
      ]
    },
    {
      "cell_type": "code",
      "metadata": {
        "id": "VWsjGFPupCuR",
        "colab_type": "code",
        "colab": {
          "base_uri": "https://localhost:8080/",
          "height": 507
        },
        "outputId": "824d8f26-5a9a-47d8-8503-d7af6c96abad"
      },
      "source": [
        "#Standard CoxPH\n",
        "%%time\n",
        "from pysurvival.models.semi_parametric import NonLinearCoxPHModel\n",
        "#### 4 - Creating an instance of the NonLinear CoxPH model and fitting the data.\n",
        "\n",
        "# Defining the MLP structure. Here we will build a 1-hidden layer \n",
        "# with 150 units and `BentIdentity` as its activation function\n",
        "#structure = [ {'activation': 'BentIdentity', 'num_units': 150},  ]\n",
        "structure = [ {'activation': 'ReLU', 'num_units': 128}, {'activation': 'Tanh', 'num_units': 128},{'activation': 'BentIdentity', 'num_units': 128} ]\n",
        "\n",
        "# Building the model\n",
        "nonlinear_coxph = NonLinearCoxPHModel(structure=structure)\n",
        "nonlinear_coxph.fit(X_train, T_train, E_train, lr=1e-3, init_method='glorot_uniform')\n",
        "\n",
        "\n",
        "#### 5 - Cross Validation / Model Performances\n",
        "c_index = concordance_index(nonlinear_coxph, X_test, T_test, E_test) #0.96/0.13\n",
        "print('C-index: {:.2f}'.format(c_index))\n",
        "\n",
        "ibs = integrated_brier_score(nonlinear_coxph, X_test, T_test, E_test, t_max=600,\n",
        "            figure_size=(20, 6.5) )\n",
        "print('IBS: {:.2f}'.format(ibs))"
      ],
      "execution_count": 70,
      "outputs": [
        {
          "output_type": "stream",
          "text": [
            "\n"
          ],
          "name": "stderr"
        },
        {
          "output_type": "stream",
          "text": [
            "C-index: 0.97\n"
          ],
          "name": "stdout"
        },
        {
          "output_type": "display_data",
          "data": {
            "image/png": "[encoded data removed]",
            "text/plain": [
              "<Figure size 1440x468 with 1 Axes>"
            ]
          },
          "metadata": {
            "tags": []
          }
        },
        {
          "output_type": "stream",
          "text": [
            "IBS: 0.15\n",
            "CPU times: user 27.9 s, sys: 1.03 s, total: 29 s\n",
            "Wall time: 29.3 s\n"
          ],
          "name": "stdout"
        }
      ]
    },
    {
      "cell_type": "code",
      "metadata": {
        "id": "IqQuNbdjNRnc",
        "colab_type": "code",
        "colab": {}
      },
      "source": [
        "k = 23"
      ],
      "execution_count": 0,
      "outputs": []
    },
    {
      "cell_type": "code",
      "metadata": {
        "id": "Q4f645CaJFuB",
        "colab_type": "code",
        "colab": {}
      },
      "source": [
        "predicted = nonlinear_coxph.predict_survival(X_test.values[k, :], t=T_test.iloc[k]).flatten()"
      ],
      "execution_count": 0,
      "outputs": []
    },
    {
      "cell_type": "code",
      "metadata": {
        "id": "8LwLWGzwKbAW",
        "colab_type": "code",
        "colab": {
          "base_uri": "https://localhost:8080/",
          "height": 34
        },
        "outputId": "30b56311-9474-4a17-c79a-8dbec655d696"
      },
      "source": [
        "predicted"
      ],
      "execution_count": 79,
      "outputs": [
        {
          "output_type": "execute_result",
          "data": {
            "text/plain": [
              "array([0.32958173])"
            ]
          },
          "metadata": {
            "tags": []
          },
          "execution_count": 79
        }
      ]
    },
    {
      "cell_type": "code",
      "metadata": {
        "id": "QFncV_RAY_eK",
        "colab_type": "code",
        "colab": {
          "base_uri": "https://localhost:8080/",
          "height": 34
        },
        "outputId": "31a1f0d5-b122-4749-e654-e69a747ae3a9"
      },
      "source": [
        "E_test.iloc[k]"
      ],
      "execution_count": 78,
      "outputs": [
        {
          "output_type": "execute_result",
          "data": {
            "text/plain": [
              "1"
            ]
          },
          "metadata": {
            "tags": []
          },
          "execution_count": 78
        }
      ]
    },
    {
      "cell_type": "code",
      "metadata": {
        "id": "RotQ9f8zJw6G",
        "colab_type": "code",
        "colab": {
          "base_uri": "https://localhost:8080/",
          "height": 493
        },
        "outputId": "076a212d-4de9-45bc-b29f-cc198050346c"
      },
      "source": [
        "predicted"
      ],
      "execution_count": 36,
      "outputs": [
        {
          "output_type": "execute_result",
          "data": {
            "text/plain": [
              "array([9.99999788e-01, 9.99991911e-01, 9.99951696e-01, 9.99760593e-01,\n",
              "       9.99062970e-01, 9.96593644e-01, 9.87805829e-01, 9.57926028e-01,\n",
              "       8.64741065e-01, 6.37638624e-01, 2.65777748e-01, 2.42062872e-02,\n",
              "       3.51193007e-04, 2.79356518e-08, 6.62051397e-16, 1.14386056e-32,\n",
              "       7.05853494e-67, 0.00000000e+00, 0.00000000e+00, 0.00000000e+00,\n",
              "       0.00000000e+00, 0.00000000e+00, 0.00000000e+00, 0.00000000e+00,\n",
              "       0.00000000e+00, 0.00000000e+00, 0.00000000e+00, 0.00000000e+00,\n",
              "       0.00000000e+00, 0.00000000e+00, 0.00000000e+00, 0.00000000e+00,\n",
              "       0.00000000e+00, 0.00000000e+00, 0.00000000e+00, 0.00000000e+00,\n",
              "       0.00000000e+00, 0.00000000e+00, 0.00000000e+00, 0.00000000e+00,\n",
              "       0.00000000e+00, 0.00000000e+00, 0.00000000e+00, 0.00000000e+00,\n",
              "       0.00000000e+00, 0.00000000e+00, 0.00000000e+00, 0.00000000e+00,\n",
              "       0.00000000e+00, 0.00000000e+00, 0.00000000e+00, 0.00000000e+00,\n",
              "       0.00000000e+00, 0.00000000e+00, 0.00000000e+00, 0.00000000e+00,\n",
              "       0.00000000e+00, 0.00000000e+00, 0.00000000e+00, 0.00000000e+00,\n",
              "       0.00000000e+00, 0.00000000e+00, 0.00000000e+00, 0.00000000e+00,\n",
              "       0.00000000e+00, 0.00000000e+00, 0.00000000e+00, 0.00000000e+00,\n",
              "       0.00000000e+00, 0.00000000e+00, 0.00000000e+00, 0.00000000e+00,\n",
              "       0.00000000e+00, 0.00000000e+00, 0.00000000e+00, 0.00000000e+00,\n",
              "       0.00000000e+00, 0.00000000e+00, 0.00000000e+00, 0.00000000e+00,\n",
              "       0.00000000e+00, 0.00000000e+00, 0.00000000e+00, 0.00000000e+00,\n",
              "       0.00000000e+00, 0.00000000e+00, 0.00000000e+00, 0.00000000e+00,\n",
              "       0.00000000e+00, 0.00000000e+00, 0.00000000e+00, 0.00000000e+00,\n",
              "       0.00000000e+00, 0.00000000e+00, 0.00000000e+00, 0.00000000e+00,\n",
              "       0.00000000e+00, 0.00000000e+00, 0.00000000e+00, 0.00000000e+00,\n",
              "       0.00000000e+00, 0.00000000e+00, 0.00000000e+00, 0.00000000e+00,\n",
              "       0.00000000e+00, 0.00000000e+00, 0.00000000e+00, 0.00000000e+00,\n",
              "       0.00000000e+00, 0.00000000e+00])"
            ]
          },
          "metadata": {
            "tags": []
          },
          "execution_count": 36
        }
      ]
    },
    {
      "cell_type": "code",
      "metadata": {
        "id": "kzf1jIpDpzjj",
        "colab_type": "code",
        "colab": {}
      },
      "source": [
        "#Cross Validation / Model Performances\n",
        "c_index = concordance_index(coxph, X_test, T_test, E_test) #0.92\n",
        "print('C-index: {:.2f}'.format(c_index))\n",
        "\n",
        "ibs = integrated_brier_score(coxph, X_test, T_test, E_test, t_max=10,\n",
        "            figure_size=(20, 6.5) )\n",
        "print('IBS: {:.2f}'.format(ibs))"
      ],
      "execution_count": 0,
      "outputs": []
    },
    {
      "cell_type": "code",
      "metadata": {
        "id": "VMjx0QUeu5eA",
        "colab_type": "code",
        "outputId": "459f4f29-4360-4738-e9ff-af7ec3a211ca",
        "colab": {
          "base_uri": "https://localhost:8080/",
          "height": 507
        }
      },
      "source": [
        "%%time\n",
        "##5 -- best so far\n",
        "from pysurvival.models.parametric import GompertzModel #try other models\n",
        "# Building the model\n",
        "gomp_model = GompertzModel()\n",
        "gomp_model.fit(X_train, T_train, E_train, lr=1e-3, init_method='zeros',\n",
        "    optimizer ='adam', l2_reg = 1e-3, num_epochs=1500)\n",
        "\n",
        "\n",
        "#### 5 - Cross Validation / Model Performances\n",
        "c_index = concordance_index(gomp_model, X_test, T_test, E_test) #0.77\n",
        "print('C-index: {:.2f}'.format(c_index))\n",
        "\n",
        "ibs = integrated_brier_score(gomp_model, X_test, T_test, E_test, t_max=30,\n",
        "            figure_size=(20, 6.5) )\n",
        "print('IBS: {:.2f}'.format(ibs))"
      ],
      "execution_count": 0,
      "outputs": [
        {
          "output_type": "stream",
          "text": [
            "\n"
          ],
          "name": "stderr"
        },
        {
          "output_type": "stream",
          "text": [
            "C-index: 0.81\n"
          ],
          "name": "stdout"
        },
        {
          "output_type": "display_data",
          "data": {
            "image/png": "[encoded data removed]",
            "text/plain": [
              "<Figure size 1440x468 with 1 Axes>"
            ]
          },
          "metadata": {
            "tags": []
          }
        },
        {
          "output_type": "stream",
          "text": [
            "IBS: 0.12\n",
            "CPU times: user 3.34 s, sys: 210 ms, total: 3.55 s\n",
            "Wall time: 3.57 s\n"
          ],
          "name": "stdout"
        }
      ]
    },
    {
      "cell_type": "code",
      "metadata": {
        "id": "M0dY1vWB6kbl",
        "colab_type": "code",
        "outputId": "06602148-4603-4352-ead7-842d10b3c4ec",
        "colab": {
          "base_uri": "https://localhost:8080/",
          "height": 316
        }
      },
      "source": [
        "from pysurvival.utils.display import compare_to_actual\n",
        "results = compare_to_actual(NonLinearCoxPHModel, X_test, T_test, E_test,\n",
        "                            is_at_risk = True,  figure_size=(16, 6),\n",
        "                            metrics = ['rmse', 'mean', 'median'])"
      ],
      "execution_count": 69,
      "outputs": [
        {
          "output_type": "error",
          "ename": "TypeError",
          "evalue": "ignored",
          "traceback": [
            "\u001b[0;31m---------------------------------------------------------------------------\u001b[0m",
            "\u001b[0;31mTypeError\u001b[0m                                 Traceback (most recent call last)",
            "\u001b[0;32m<ipython-input-69-ad6806d83b2e>\u001b[0m in \u001b[0;36m<module>\u001b[0;34m()\u001b[0m\n\u001b[1;32m      2\u001b[0m results = compare_to_actual(NonLinearCoxPHModel, X_test, T_test, E_test,\n\u001b[1;32m      3\u001b[0m                             \u001b[0mis_at_risk\u001b[0m \u001b[0;34m=\u001b[0m \u001b[0;32mTrue\u001b[0m\u001b[0;34m,\u001b[0m  \u001b[0mfigure_size\u001b[0m\u001b[0;34m=\u001b[0m\u001b[0;34m(\u001b[0m\u001b[0;36m16\u001b[0m\u001b[0;34m,\u001b[0m \u001b[0;36m6\u001b[0m\u001b[0;34m)\u001b[0m\u001b[0;34m,\u001b[0m\u001b[0;34m\u001b[0m\u001b[0;34m\u001b[0m\u001b[0m\n\u001b[0;32m----> 4\u001b[0;31m                             metrics = ['rmse', 'mean', 'median'])\n\u001b[0m",
            "\u001b[0;32m/usr/local/lib/python3.6/dist-packages/pysurvival/utils/display.py\u001b[0m in \u001b[0;36mcompare_to_actual\u001b[0;34m(model, X, T, E, times, is_at_risk, figure_size, metrics, **kwargs)\u001b[0m\n\u001b[1;32m    298\u001b[0m     \u001b[0mpredicted\u001b[0m \u001b[0;34m=\u001b[0m \u001b[0;34m[\u001b[0m\u001b[0;34m]\u001b[0m\u001b[0;34m\u001b[0m\u001b[0;34m\u001b[0m\u001b[0m\n\u001b[1;32m    299\u001b[0m     \u001b[0;32mif\u001b[0m \u001b[0mis_at_risk\u001b[0m\u001b[0;34m:\u001b[0m\u001b[0;34m\u001b[0m\u001b[0;34m\u001b[0m\u001b[0m\n\u001b[0;32m--> 300\u001b[0;31m         \u001b[0mmodel_predicted\u001b[0m \u001b[0;34m=\u001b[0m  \u001b[0mnp\u001b[0m\u001b[0;34m.\u001b[0m\u001b[0msum\u001b[0m\u001b[0;34m(\u001b[0m\u001b[0mmodel\u001b[0m\u001b[0;34m.\u001b[0m\u001b[0mpredict_survival\u001b[0m\u001b[0;34m(\u001b[0m\u001b[0mX\u001b[0m\u001b[0;34m,\u001b[0m \u001b[0;34m**\u001b[0m\u001b[0mkwargs\u001b[0m\u001b[0;34m)\u001b[0m\u001b[0;34m,\u001b[0m \u001b[0;36m0\u001b[0m\u001b[0;34m)\u001b[0m\u001b[0;34m\u001b[0m\u001b[0;34m\u001b[0m\u001b[0m\n\u001b[0m\u001b[1;32m    301\u001b[0m \u001b[0;34m\u001b[0m\u001b[0m\n\u001b[1;32m    302\u001b[0m         \u001b[0;32mfor\u001b[0m \u001b[0mt\u001b[0m \u001b[0;32min\u001b[0m \u001b[0mtimes\u001b[0m\u001b[0;34m:\u001b[0m\u001b[0;34m\u001b[0m\u001b[0;34m\u001b[0m\u001b[0m\n",
            "\u001b[0;31mTypeError\u001b[0m: predict_survival() missing 1 required positional argument: 'x'"
          ]
        }
      ]
    },
    {
      "cell_type": "code",
      "metadata": {
        "id": "E_yuRy1CnXxN",
        "colab_type": "code",
        "outputId": "e1f5bb5f-a889-496f-b96c-24f6c595565e",
        "colab": {
          "base_uri": "https://localhost:8080/",
          "height": 51
        }
      },
      "source": [
        "%%time\n",
        "##6\n",
        "from pysurvival.models.survival_forest import ConditionalSurvivalForestModel\n",
        "\n",
        "# Fitting the model\n",
        "csf = ConditionalSurvivalForestModel(num_trees=200)\n",
        "csf.fit(X_train, T_train, E_train, max_features='sqrt',\n",
        "        max_depth=5, min_node_size=20, alpha=0.05, minprop=0.1) #0.74"
      ],
      "execution_count": 0,
      "outputs": [
        {
          "output_type": "stream",
          "text": [
            "CPU times: user 4min 17s, sys: 90.6 ms, total: 4min 17s\n",
            "Wall time: 2min 10s\n"
          ],
          "name": "stdout"
        }
      ]
    },
    {
      "cell_type": "code",
      "metadata": {
        "id": "yoVJUB63oYj0",
        "colab_type": "code",
        "outputId": "0040889b-15ce-4b84-a38c-26b9dde9996a",
        "colab": {
          "base_uri": "https://localhost:8080/",
          "height": 507
        }
      },
      "source": [
        "%%time\n",
        "from pysurvival.models.semi_parametric import NonLinearCoxPHModel\n",
        "#### 4 - Creating an instance of the NonLinear CoxPH model and fitting the data.\n",
        "\n",
        "# Defining the MLP structure. Here we will build a 1-hidden layer \n",
        "# with 150 units and `BentIdentity` as its activation function\n",
        "structure = [ {'activation': 'BentIdentity', 'num_units': 256},  ]\n",
        "\n",
        "# Building the model\n",
        "nonlinear_coxph = NonLinearCoxPHModel(structure=structure)\n",
        "nonlinear_coxph.fit(X_train, T_train, E_train, lr=1e-3, init_method='xav_uniform')\n",
        "\n",
        "\n",
        "#### 5 - Cross Validation / Model Performances\n",
        "c_index = concordance_index(nonlinear_coxph, X_test, T_test, E_test) #0.95/0.13\n",
        "print('C-index: {:.2f}'.format(c_index))\n",
        "\n",
        "ibs = integrated_brier_score(nonlinear_coxph, X_test, T_test, E_test, t_max=600,\n",
        "            figure_size=(20, 6.5) )\n",
        "print('IBS: {:.2f}'.format(ibs))"
      ],
      "execution_count": 0,
      "outputs": [
        {
          "output_type": "stream",
          "text": [
            "\n"
          ],
          "name": "stderr"
        },
        {
          "output_type": "stream",
          "text": [
            "C-index: 0.95\n"
          ],
          "name": "stdout"
        },
        {
          "output_type": "display_data",
          "data": {
            "image/png": "[encoded data removed]",
            "text/plain": [
              "<Figure size 1440x468 with 1 Axes>"
            ]
          },
          "metadata": {
            "tags": []
          }
        },
        {
          "output_type": "stream",
          "text": [
            "IBS: 0.13\n",
            "CPU times: user 8.29 s, sys: 479 ms, total: 8.77 s\n",
            "Wall time: 8.76 s\n"
          ],
          "name": "stdout"
        }
      ]
    },
    {
      "cell_type": "code",
      "metadata": {
        "id": "2XEyMsLMnfm-",
        "colab_type": "code",
        "outputId": "b07554a2-4815-49a1-f56a-f3519a6de949",
        "colab": {
          "base_uri": "https://localhost:8080/",
          "height": 669
        }
      },
      "source": [
        "# Computing variables importance\n",
        "csf.variable_importance_table.head(20)"
      ],
      "execution_count": 0,
      "outputs": [
        {
          "output_type": "execute_result",
          "data": {
            "text/html": [
              "<div>\n",
              "<style scoped>\n",
              "    .dataframe tbody tr th:only-of-type {\n",
              "        vertical-align: middle;\n",
              "    }\n",
              "\n",
              "    .dataframe tbody tr th {\n",
              "        vertical-align: top;\n",
              "    }\n",
              "\n",
              "    .dataframe thead th {\n",
              "        text-align: right;\n",
              "    }\n",
              "</style>\n",
              "<table border=\"1\" class=\"dataframe\">\n",
              "  <thead>\n",
              "    <tr style=\"text-align: right;\">\n",
              "      <th></th>\n",
              "      <th>feature</th>\n",
              "      <th>importance</th>\n",
              "      <th>pct_importance</th>\n",
              "    </tr>\n",
              "  </thead>\n",
              "  <tbody>\n",
              "    <tr>\n",
              "      <th>0</th>\n",
              "      <td>CurrentAge</td>\n",
              "      <td>10.622006</td>\n",
              "      <td>0.137539</td>\n",
              "    </tr>\n",
              "    <tr>\n",
              "      <th>1</th>\n",
              "      <td>PolicyYear</td>\n",
              "      <td>7.178494</td>\n",
              "      <td>0.092951</td>\n",
              "    </tr>\n",
              "    <tr>\n",
              "      <th>2</th>\n",
              "      <td>EliminationPeriod_grouped_120+</td>\n",
              "      <td>5.163781</td>\n",
              "      <td>0.066863</td>\n",
              "    </tr>\n",
              "    <tr>\n",
              "      <th>3</th>\n",
              "      <td>productDesign_IncomeReplacement</td>\n",
              "      <td>4.970221</td>\n",
              "      <td>0.064357</td>\n",
              "    </tr>\n",
              "    <tr>\n",
              "      <th>4</th>\n",
              "      <td>EliminationPeriod_120</td>\n",
              "      <td>4.253302</td>\n",
              "      <td>0.055074</td>\n",
              "    </tr>\n",
              "    <tr>\n",
              "      <th>5</th>\n",
              "      <td>CurrentProvince_QC</td>\n",
              "      <td>3.492839</td>\n",
              "      <td>0.045227</td>\n",
              "    </tr>\n",
              "    <tr>\n",
              "      <th>6</th>\n",
              "      <td>productDesign_Proguard</td>\n",
              "      <td>3.121195</td>\n",
              "      <td>0.040415</td>\n",
              "    </tr>\n",
              "    <tr>\n",
              "      <th>7</th>\n",
              "      <td>benefitPeriod_grouped_ToAge65</td>\n",
              "      <td>2.895700</td>\n",
              "      <td>0.037495</td>\n",
              "    </tr>\n",
              "    <tr>\n",
              "      <th>8</th>\n",
              "      <td>OccupationClass_3A</td>\n",
              "      <td>2.707199</td>\n",
              "      <td>0.035054</td>\n",
              "    </tr>\n",
              "    <tr>\n",
              "      <th>9</th>\n",
              "      <td>DisabilityReason_Other cancer</td>\n",
              "      <td>2.123695</td>\n",
              "      <td>0.027499</td>\n",
              "    </tr>\n",
              "    <tr>\n",
              "      <th>10</th>\n",
              "      <td>DisabilityReason_Major depression</td>\n",
              "      <td>2.028559</td>\n",
              "      <td>0.026267</td>\n",
              "    </tr>\n",
              "    <tr>\n",
              "      <th>11</th>\n",
              "      <td>OccupationClass_A</td>\n",
              "      <td>1.826135</td>\n",
              "      <td>0.023646</td>\n",
              "    </tr>\n",
              "    <tr>\n",
              "      <th>12</th>\n",
              "      <td>productDesign_Venture_Total</td>\n",
              "      <td>1.806308</td>\n",
              "      <td>0.023389</td>\n",
              "    </tr>\n",
              "    <tr>\n",
              "      <th>13</th>\n",
              "      <td>OccupationClass_4A</td>\n",
              "      <td>1.773833</td>\n",
              "      <td>0.022968</td>\n",
              "    </tr>\n",
              "    <tr>\n",
              "      <th>14</th>\n",
              "      <td>productDesign_Venture_ParRes</td>\n",
              "      <td>1.745719</td>\n",
              "      <td>0.022604</td>\n",
              "    </tr>\n",
              "    <tr>\n",
              "      <th>15</th>\n",
              "      <td>EliminationPeriod_grouped_60</td>\n",
              "      <td>1.581756</td>\n",
              "      <td>0.020481</td>\n",
              "    </tr>\n",
              "    <tr>\n",
              "      <th>16</th>\n",
              "      <td>benefitPeriod_grouped_Short-Term</td>\n",
              "      <td>1.529232</td>\n",
              "      <td>0.019801</td>\n",
              "    </tr>\n",
              "    <tr>\n",
              "      <th>17</th>\n",
              "      <td>disabilityAge</td>\n",
              "      <td>1.508989</td>\n",
              "      <td>0.019539</td>\n",
              "    </tr>\n",
              "    <tr>\n",
              "      <th>18</th>\n",
              "      <td>Gender_M</td>\n",
              "      <td>1.487479</td>\n",
              "      <td>0.019261</td>\n",
              "    </tr>\n",
              "    <tr>\n",
              "      <th>19</th>\n",
              "      <td>benefitPeriod_18 months</td>\n",
              "      <td>1.455010</td>\n",
              "      <td>0.018840</td>\n",
              "    </tr>\n",
              "  </tbody>\n",
              "</table>\n",
              "</div>"
            ],
            "text/plain": [
              "                              feature  importance  pct_importance\n",
              "0                          CurrentAge   10.622006        0.137539\n",
              "1                          PolicyYear    7.178494        0.092951\n",
              "2      EliminationPeriod_grouped_120+    5.163781        0.066863\n",
              "3     productDesign_IncomeReplacement    4.970221        0.064357\n",
              "4               EliminationPeriod_120    4.253302        0.055074\n",
              "5                  CurrentProvince_QC    3.492839        0.045227\n",
              "6              productDesign_Proguard    3.121195        0.040415\n",
              "7       benefitPeriod_grouped_ToAge65    2.895700        0.037495\n",
              "8                  OccupationClass_3A    2.707199        0.035054\n",
              "9       DisabilityReason_Other cancer    2.123695        0.027499\n",
              "10  DisabilityReason_Major depression    2.028559        0.026267\n",
              "11                  OccupationClass_A    1.826135        0.023646\n",
              "12        productDesign_Venture_Total    1.806308        0.023389\n",
              "13                 OccupationClass_4A    1.773833        0.022968\n",
              "14       productDesign_Venture_ParRes    1.745719        0.022604\n",
              "15       EliminationPeriod_grouped_60    1.581756        0.020481\n",
              "16   benefitPeriod_grouped_Short-Term    1.529232        0.019801\n",
              "17                      disabilityAge    1.508989        0.019539\n",
              "18                           Gender_M    1.487479        0.019261\n",
              "19            benefitPeriod_18 months    1.455010        0.018840"
            ]
          },
          "metadata": {
            "tags": []
          },
          "execution_count": 45
        }
      ]
    },
    {
      "cell_type": "code",
      "metadata": {
        "id": "yBVF5QTqocTo",
        "colab_type": "code",
        "outputId": "416a1b1d-f9ba-4a6d-dd25-6be4333366fe",
        "colab": {
          "base_uri": "https://localhost:8080/",
          "height": 34
        }
      },
      "source": [
        "from pysurvival.utils.metrics import concordance_index\n",
        "c_index = concordance_index(csf, X_test, T_test, E_test)\n",
        "print('C-index: {:.2f}'.format(c_index)) #0.83"
      ],
      "execution_count": 0,
      "outputs": [
        {
          "output_type": "stream",
          "text": [
            "C-index: 0.74\n"
          ],
          "name": "stdout"
        }
      ]
    }
  ]
}